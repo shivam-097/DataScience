{
 "cells": [
  {
   "cell_type": "code",
   "execution_count": 1,
   "id": "aa4cdc23-e148-4ee2-9882-da5823a245c4",
   "metadata": {},
   "outputs": [
    {
     "name": "stdout",
     "output_type": "stream",
     "text": [
      "Hello World\n"
     ]
    }
   ],
   "source": [
    "print('Hello World')"
   ]
  },
  {
   "cell_type": "code",
   "execution_count": 3,
   "id": "9ab9481d-3f4f-4f7e-9a13-cd7ad304a683",
   "metadata": {},
   "outputs": [
    {
     "name": "stdin",
     "output_type": "stream",
     "text": [
      "Enter the age:  17\n"
     ]
    }
   ],
   "source": [
    "age=int(input('Enter the age: '))\n",
    "\n",
    "if age>=18 and age<=45:\n",
    "    print('You are young blood.')"
   ]
  },
  {
   "cell_type": "code",
   "execution_count": 9,
   "id": "62e9267c-d195-499c-9bfe-d493978e836b",
   "metadata": {},
   "outputs": [
    {
     "name": "stdin",
     "output_type": "stream",
     "text": [
      "Total Bill Amount 3000\n"
     ]
    },
    {
     "name": "stdout",
     "output_type": "stream",
     "text": [
      "The payable amount is Rs. 2400.0\n"
     ]
    }
   ],
   "source": [
    "bill=int(input(\"Total Bill Amount\"))\n",
    "\n",
    "if bill<=1000:\n",
    "    payable=bill-bill*10/100\n",
    "    print(f\"The payable amount is Rs. {payable}\")\n",
    "elif bill>1000 and bill <=3000:\n",
    "    payable=bill-bill*20/100\n",
    "    print(f\"The payable amount is Rs. {payable}\")\n",
    "else:\n",
    "    payable=bill-bill*20/100\n",
    "    print(f\"The payable amount is Rs. {payable}\")"
   ]
  },
  {
   "cell_type": "code",
   "execution_count": 10,
   "id": "ab85e1ad-7487-428f-b3ec-33a4c066ac7c",
   "metadata": {},
   "outputs": [
    {
     "name": "stdin",
     "output_type": "stream",
     "text": [
      "Total Bill Amount 1000\n"
     ]
    },
    {
     "name": "stdout",
     "output_type": "stream",
     "text": [
      "Go Home\n"
     ]
    }
   ],
   "source": [
    "value=int(input(\"Total Bill Amount\"))\n",
    "\n",
    "if value<999: print(\"The value is {}\".format(value))\n",
    "else: print(\"Go Home\")"
   ]
  },
  {
   "cell_type": "code",
   "execution_count": null,
   "id": "73283036-1e4f-4155-9b30-760f6ae71e70",
   "metadata": {},
   "outputs": [],
   "source": []
  }
 ],
 "metadata": {
  "kernelspec": {
   "display_name": "Python 3 (ipykernel)",
   "language": "python",
   "name": "python3"
  },
  "language_info": {
   "codemirror_mode": {
    "name": "ipython",
    "version": 3
   },
   "file_extension": ".py",
   "mimetype": "text/x-python",
   "name": "python",
   "nbconvert_exporter": "python",
   "pygments_lexer": "ipython3",
   "version": "3.10.8"
  }
 },
 "nbformat": 4,
 "nbformat_minor": 5
}
