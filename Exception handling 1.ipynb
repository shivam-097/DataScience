{
 "cells": [
  {
   "cell_type": "markdown",
   "id": "9eecc70a-9936-41b0-b3dc-fa9b108dcf86",
   "metadata": {},
   "source": [
    "#### 1. What is an exception in python? Write the difference between exceptions and syntax errors."
   ]
  },
  {
   "cell_type": "markdown",
   "id": "d85bfc1f-f2a4-4b7d-8fe4-f7dde4fadb3c",
   "metadata": {},
   "source": [
    "Ans. While execution of a program if due to some error if any disruption happens it is called an Exception. \n",
    "\n",
    "A syntax error is an error which occurs when the code is not written as per the rules of programming language such as if any spelling mistake is made in writing built in functions. However exceptions occurs when something stops the normal execution of a program during runtime."
   ]
  },
  {
   "cell_type": "markdown",
   "id": "c09f125e-5bd4-4288-8220-8f3d006c8fc3",
   "metadata": {},
   "source": [
    "#### 2. What happens when an exeption is not handled? Explain with an example."
   ]
  },
  {
   "cell_type": "code",
   "execution_count": 11,
   "id": "46ee4b21-d1a1-40c9-8131-64aa42d7cc54",
   "metadata": {},
   "outputs": [
    {
     "name": "stdin",
     "output_type": "stream",
     "text": [
      "Enter the number 12\n",
      "Enter the divisor 0\n"
     ]
    },
    {
     "ename": "ZeroDivisionError",
     "evalue": "integer modulo by zero",
     "output_type": "error",
     "traceback": [
      "\u001b[0;31m---------------------------------------------------------------------------\u001b[0m",
      "\u001b[0;31mZeroDivisionError\u001b[0m                         Traceback (most recent call last)",
      "Cell \u001b[0;32mIn[11], line 11\u001b[0m\n\u001b[1;32m      8\u001b[0m     \u001b[38;5;28;01melse\u001b[39;00m:\n\u001b[1;32m      9\u001b[0m         \u001b[38;5;28mprint\u001b[39m(\u001b[38;5;124m\"\u001b[39m\u001b[38;5;132;01m{}\u001b[39;00m\u001b[38;5;124m is not divisible by \u001b[39m\u001b[38;5;132;01m{}\u001b[39;00m\u001b[38;5;124m\"\u001b[39m\u001b[38;5;241m.\u001b[39mformat(num,deno))\n\u001b[0;32m---> 11\u001b[0m \u001b[43mdiv_check\u001b[49m\u001b[43m(\u001b[49m\u001b[38;5;28;43mint\u001b[39;49m\u001b[43m(\u001b[49m\u001b[38;5;28;43minput\u001b[39;49m\u001b[43m(\u001b[49m\u001b[38;5;124;43m\"\u001b[39;49m\u001b[38;5;124;43mEnter the number\u001b[39;49m\u001b[38;5;124;43m\"\u001b[39;49m\u001b[43m)\u001b[49m\u001b[43m)\u001b[49m\u001b[43m \u001b[49m\u001b[43m,\u001b[49m\u001b[43m  \u001b[49m\u001b[38;5;28;43mint\u001b[39;49m\u001b[43m(\u001b[49m\u001b[38;5;28;43minput\u001b[39;49m\u001b[43m(\u001b[49m\u001b[38;5;124;43m\"\u001b[39;49m\u001b[38;5;124;43mEnter the divisor\u001b[39;49m\u001b[38;5;124;43m\"\u001b[39;49m\u001b[43m)\u001b[49m\u001b[43m)\u001b[49m\u001b[43m)\u001b[49m\n\u001b[1;32m     13\u001b[0m \u001b[38;5;28mprint\u001b[39m(\u001b[38;5;124m\"\u001b[39m\u001b[38;5;124mCode ran\u001b[39m\u001b[38;5;124m\"\u001b[39m)\n",
      "Cell \u001b[0;32mIn[11], line 6\u001b[0m, in \u001b[0;36mdiv_check\u001b[0;34m(num, deno)\u001b[0m\n\u001b[1;32m      5\u001b[0m \u001b[38;5;28;01mdef\u001b[39;00m \u001b[38;5;21mdiv_check\u001b[39m(num,deno):\n\u001b[0;32m----> 6\u001b[0m     \u001b[38;5;28;01mif\u001b[39;00m \u001b[43mnum\u001b[49m\u001b[38;5;241;43m%\u001b[39;49m\u001b[43m \u001b[49m\u001b[43mdeno\u001b[49m \u001b[38;5;241m==\u001b[39m \u001b[38;5;241m0\u001b[39m:\n\u001b[1;32m      7\u001b[0m         \u001b[38;5;28mprint\u001b[39m(\u001b[38;5;124m\"\u001b[39m\u001b[38;5;132;01m{}\u001b[39;00m\u001b[38;5;124m is divisible by \u001b[39m\u001b[38;5;132;01m{}\u001b[39;00m\u001b[38;5;124m\"\u001b[39m\u001b[38;5;241m.\u001b[39mformat(num,deno))\n\u001b[1;32m      8\u001b[0m     \u001b[38;5;28;01melse\u001b[39;00m:\n",
      "\u001b[0;31mZeroDivisionError\u001b[0m: integer modulo by zero"
     ]
    }
   ],
   "source": [
    "'''If exeption is not handled the part of code which is after the code which \n",
    "is written after the part where exception occurs does not execute. \n",
    "Example of the same is given below'''\n",
    "\n",
    "def div_check(num,deno):\n",
    "    if num% deno == 0:\n",
    "        print(\"{} is divisible by {}\".format(num,deno))\n",
    "    else:\n",
    "        print(\"{} is not divisible by {}\".format(num,deno))\n",
    "\n",
    "div_check(int(input(\"Enter the number\")) ,  int(input(\"Enter the divisor\")))\n",
    "\n",
    "print(\"Code ran\")"
   ]
  },
  {
   "cell_type": "code",
   "execution_count": 14,
   "id": "1ab3689e-9635-4632-b2a1-3aeabd685682",
   "metadata": {},
   "outputs": [
    {
     "name": "stdin",
     "output_type": "stream",
     "text": [
      "Enter the number 12\n",
      "Enter the divisor 0\n"
     ]
    },
    {
     "name": "stdout",
     "output_type": "stream",
     "text": [
      "Issue in the code with error  integer modulo by zero\n",
      "Code ran\n"
     ]
    }
   ],
   "source": [
    "'''However if exception was handled then the print function\n",
    "after code would have ran. For example below'''\n",
    "\n",
    "def div_check(num,deno):\n",
    "\n",
    "    try:\n",
    "        if num% deno == 0:\n",
    "            print(\"{} is divisible by {}\".format(num,deno))\n",
    "        else:\n",
    "            print(\"{} is not divisible by {}\".format(num,deno))\n",
    "    except Exception as e:\n",
    "        print(\"Issue in the code with error \", e)\n",
    "\n",
    "div_check(int(input(\"Enter the number\")) ,  int(input(\"Enter the divisor\")))\n",
    "\n",
    "print(\"Code ran\")"
   ]
  },
  {
   "cell_type": "markdown",
   "id": "1822b0f0-4a83-4bf3-b56d-84781922e128",
   "metadata": {},
   "source": [
    "#### 3. Which Python statements are used to catch and handle exceptions? Explain with an example."
   ]
  },
  {
   "cell_type": "code",
   "execution_count": 16,
   "id": "f724960d-9c15-4d62-8693-3190f342a1ac",
   "metadata": {},
   "outputs": [
    {
     "name": "stdout",
     "output_type": "stream",
     "text": [
      "Code has this exception [Errno 2] No such file or directory: 'test_check.txt'\n",
      "Exception handled\n"
     ]
    }
   ],
   "source": [
    "'''Ans. To catch and handle exceptions we use try and except\n",
    "block. The code is writen in try block and the exception is \n",
    "handled in the except block. E.g. is below:'''\n",
    "\n",
    "try:\n",
    "    f = open('test_check.txt', 'r')\n",
    "    fd.read()\n",
    "\n",
    "except Exception as e:\n",
    "    print(\"Code has this exception\",e)\n",
    "\n",
    "print(\"Exception handled\")"
   ]
  },
  {
   "cell_type": "markdown",
   "id": "3bf3fcc0-fe2e-4278-87b5-66f0e70c7cc9",
   "metadata": {},
   "source": [
    "4. Explain with an example:\n",
    "a. try and else \n",
    "b. finally \n",
    "c. raise"
   ]
  },
  {
   "cell_type": "code",
   "execution_count": 21,
   "id": "2214e644-a804-4b3e-9aad-a89a6e149f3b",
   "metadata": {},
   "outputs": [
    {
     "name": "stdin",
     "output_type": "stream",
     "text": [
      "Enter the age:  -23\n"
     ]
    },
    {
     "name": "stdout",
     "output_type": "stream",
     "text": [
      "It has this error  Age cannot be negetive\n",
      "Age is just a number\n"
     ]
    }
   ],
   "source": [
    "'''a. try and else is used for exception handling. \n",
    " b. finally is used for running the code in all situation \n",
    " c. raise is used to raise custom exceptions. Examples for all are below'''\n",
    "\n",
    "try:\n",
    "    age = int(input(\"Enter the age: \"))\n",
    "    if age < 0:\n",
    "        raise Exception('Age cannot be negetive')\n",
    "\n",
    "except Exception as e:\n",
    "    print(\"It has this error \", e)\n",
    "    \n",
    "else:\n",
    "    print(\"Your age is {} years\".format(age))\n",
    "\n",
    "finally:\n",
    "    print(\"Age is just a number\")"
   ]
  },
  {
   "cell_type": "markdown",
   "id": "ac29b376-77cc-4255-8c6b-b9f127492b39",
   "metadata": {},
   "source": [
    "#### 5. What are custom exceptions in python? Why do we need custom excepts? Explain with an example."
   ]
  },
  {
   "cell_type": "code",
   "execution_count": 22,
   "id": "bfea3363-9469-40e1-9432-8add34cfb72f",
   "metadata": {},
   "outputs": [
    {
     "name": "stdin",
     "output_type": "stream",
     "text": [
      "Enter the age:  -45\n"
     ]
    },
    {
     "name": "stdout",
     "output_type": "stream",
     "text": [
      "It has this error  Age cannot be negetive\n"
     ]
    }
   ],
   "source": [
    "'''Ans. Custom exceptions are raised, so that user should avoid some \n",
    "impractical or illogical inputs for which code itself does not raise \n",
    "exception. In the above example if we didn't raise any custom exception\n",
    "code would have accepted the negetive age as well'''\n",
    "\n",
    "# Using the above example again\n",
    "\n",
    "try:\n",
    "    age = int(input(\"Enter the age: \"))\n",
    "    if age < 0:\n",
    "        raise Exception('Age cannot be negetive')\n",
    "\n",
    "except Exception as e:\n",
    "    print(\"It has this error \", e)"
   ]
  },
  {
   "cell_type": "markdown",
   "id": "e8a29f23-9eb1-4ac6-ba30-6f05cddfabdb",
   "metadata": {},
   "source": [
    "#### 6. Create a custom class. Use this class to handle an exception"
   ]
  },
  {
   "cell_type": "code",
   "execution_count": 25,
   "id": "1dadf259-f5a7-41e4-9812-aab5f04b2705",
   "metadata": {},
   "outputs": [
    {
     "name": "stdin",
     "output_type": "stream",
     "text": [
      "Enter the age:  12\n"
     ]
    },
    {
     "ename": "Teen_exception",
     "evalue": "Age is not in 13-19 range",
     "output_type": "error",
     "traceback": [
      "\u001b[0;31m---------------------------------------------------------------------------\u001b[0m",
      "\u001b[0;31mTeen_exception\u001b[0m                            Traceback (most recent call last)",
      "Cell \u001b[0;32mIn[25], line 10\u001b[0m\n\u001b[1;32m      7\u001b[0m age \u001b[38;5;241m=\u001b[39m \u001b[38;5;28mint\u001b[39m(\u001b[38;5;28minput\u001b[39m(\u001b[38;5;124m\"\u001b[39m\u001b[38;5;124mEnter the age: \u001b[39m\u001b[38;5;124m\"\u001b[39m))\n\u001b[1;32m      9\u001b[0m \u001b[38;5;28;01mif\u001b[39;00m \u001b[38;5;129;01mnot\u001b[39;00m \u001b[38;5;241m13\u001b[39m\u001b[38;5;241m<\u001b[39m\u001b[38;5;241m=\u001b[39mage\u001b[38;5;241m<\u001b[39m\u001b[38;5;241m=\u001b[39m\u001b[38;5;241m19\u001b[39m:\n\u001b[0;32m---> 10\u001b[0m     \u001b[38;5;28;01mraise\u001b[39;00m Teen_exception(age)\n",
      "\u001b[0;31mTeen_exception\u001b[0m: Age is not in 13-19 range"
     ]
    }
   ],
   "source": [
    "class Teen_exception(Exception):\n",
    "    def __init__(self, age, msg = \"Age is not in 13-19 range\"):\n",
    "        self.age = age\n",
    "        self.msg = msg\n",
    "        super().__init__(self.msg)\n",
    "\n",
    "age = int(input(\"Enter the age: \"))\n",
    "\n",
    "if not 13<=age<=19:\n",
    "    raise Teen_exception(age)"
   ]
  },
  {
   "cell_type": "code",
   "execution_count": null,
   "id": "31c986f6-d0d3-4ec2-9503-b5ecbd7894fc",
   "metadata": {},
   "outputs": [],
   "source": []
  }
 ],
 "metadata": {
  "kernelspec": {
   "display_name": "Python 3 (ipykernel)",
   "language": "python",
   "name": "python3"
  },
  "language_info": {
   "codemirror_mode": {
    "name": "ipython",
    "version": 3
   },
   "file_extension": ".py",
   "mimetype": "text/x-python",
   "name": "python",
   "nbconvert_exporter": "python",
   "pygments_lexer": "ipython3",
   "version": "3.11.4"
  }
 },
 "nbformat": 4,
 "nbformat_minor": 5
}
