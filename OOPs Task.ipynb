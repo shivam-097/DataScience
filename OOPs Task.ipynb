{
 "cells": [
  {
   "cell_type": "markdown",
   "id": "fd1cbc78",
   "metadata": {},
   "source": [
    "Q1, Create a vehicle class with an init method having instance variables as name_of_vehicle, max_speed\n",
    "and average_of_vehicle."
   ]
  },
  {
   "cell_type": "code",
   "execution_count": 1,
   "id": "d0d01695",
   "metadata": {},
   "outputs": [],
   "source": [
    "'''Ans. 1'''\n",
    "\n",
    "# Creating a class vehicle\n",
    "\n",
    "class vehicle:\n",
    "\n",
    "# init method definition\n",
    "\n",
    "    def __init__(self, name_of_vehicle, max_speed, average_of_vehicle):\n",
    "        \n",
    "        self.name_of_vehicle = name_of_vehicle\n",
    "        self.max_speed = max_speed\n",
    "        self.average_of_vehicle = average_of_vehicle"
   ]
  },
  {
   "cell_type": "markdown",
   "id": "4417a0e0",
   "metadata": {},
   "source": [
    "Q2. Create a child class car from the vehicle class created in Que 1, which will inherit the vehicle class.\n",
    "Create a method named seating_capacity which takes capacity as an argument and returns the name of\n",
    "the vehicle and its seating capacity."
   ]
  },
  {
   "cell_type": "code",
   "execution_count": 2,
   "id": "64dffceb",
   "metadata": {},
   "outputs": [
    {
     "data": {
      "text/plain": [
       "('Polo', 4)"
      ]
     },
     "execution_count": 2,
     "metadata": {},
     "output_type": "execute_result"
    }
   ],
   "source": [
    "'''Ans.2'''\n",
    "\n",
    "# creating a child class\n",
    "\n",
    "class car(vehicle):\n",
    "    \n",
    "    def seating_capacity(self, capacity):\n",
    "        \n",
    "        return self.name_of_vehicle, capacity\n",
    "\n",
    "# Initializing object of the class\n",
    "\n",
    "y=car(\"Polo\", 250, 15)\n",
    "\n",
    "# Calling the method\n",
    "\n",
    "y.seating_capacity(4)"
   ]
  },
  {
   "cell_type": "markdown",
   "id": "d4821c7d",
   "metadata": {},
   "source": [
    "Q3. What is multiple inheritance? Write a python code to demonstrate multiple inheritance."
   ]
  },
  {
   "cell_type": "code",
   "execution_count": 3,
   "id": "79367012",
   "metadata": {},
   "outputs": [
    {
     "name": "stdout",
     "output_type": "stream",
     "text": [
      "Hii\n",
      "Hello\n"
     ]
    }
   ],
   "source": [
    "'''Ans.3    Multiple inheritance is when a class derives methods from two or more different classes.\n",
    "            An example of the same is shown below'''\n",
    "\n",
    "class test1:\n",
    "    \n",
    "    def method1():\n",
    "        print(\"Hii\")\n",
    "        \n",
    "class test2():\n",
    "    def method2():\n",
    "        print(\"Hello\")\n",
    "        \n",
    "class test3(test1,test2):\n",
    "    def method3():\n",
    "        pass\n",
    "\n",
    "x=test3\n",
    "\n",
    "x.method1()\n",
    "x.method2()"
   ]
  },
  {
   "cell_type": "markdown",
   "id": "818a89e9",
   "metadata": {},
   "source": [
    "Q4. What are getter and setter in python? Create a class and create a getter and a setter method in this\n",
    "class."
   ]
  },
  {
   "cell_type": "code",
   "execution_count": 23,
   "id": "ca3f7224",
   "metadata": {},
   "outputs": [
    {
     "data": {
      "text/plain": [
       "25"
      ]
     },
     "execution_count": 23,
     "metadata": {},
     "output_type": "execute_result"
    }
   ],
   "source": [
    "'''Ans.4.   Getter and Setter method in python are used to enable user to access the attributes encapsulated \n",
    "            and make changes\n",
    "            The example of the same is shown below'''\n",
    "\n",
    "# Creating a class student\n",
    "\n",
    "class student:\n",
    "    \n",
    "    def __init__(self, name, age, mob):\n",
    "        \n",
    "        self.name = name\n",
    "        self.mob = mob\n",
    "        self.__age = age\n",
    "    \n",
    "    def get_d(self):\n",
    "        return self.name, self.mob, self.__age\n",
    "    \n",
    "    #declaring a getter method \n",
    "    \n",
    "    @property\n",
    "    def age1(self):\n",
    "        return self.__age\n",
    "    \n",
    "    @age1.getter\n",
    "    def get_age(self):\n",
    "        return self.__age\n",
    "    #declaring a setter method\n",
    "    \n",
    "    @age1.setter\n",
    "    def set_age(self, a):\n",
    "        if a>=18:\n",
    "            self.__age = a\n",
    "\n",
    "# Object Initialization\n",
    "    \n",
    "st1=student(\"Daksh\", 25,99992299)\n",
    "st1.get_d()\n",
    "st1.get_age\n"
   ]
  },
  {
   "cell_type": "code",
   "execution_count": 24,
   "id": "9bf723ec",
   "metadata": {},
   "outputs": [
    {
     "data": {
      "text/plain": [
       "18"
      ]
     },
     "execution_count": 24,
     "metadata": {},
     "output_type": "execute_result"
    }
   ],
   "source": [
    "# Using setter method\n",
    "st1.set_age=18\n",
    "st1.get_age"
   ]
  },
  {
   "cell_type": "code",
   "execution_count": 25,
   "id": "483e0271",
   "metadata": {},
   "outputs": [
    {
     "data": {
      "text/plain": [
       "18"
      ]
     },
     "execution_count": 25,
     "metadata": {},
     "output_type": "execute_result"
    }
   ],
   "source": [
    "# Using getter method\n",
    "st1.get_age"
   ]
  },
  {
   "cell_type": "markdown",
   "id": "fdd55632",
   "metadata": {},
   "source": [
    "Q5.What is method overriding in python? Write a python code to demonstrate method overriding."
   ]
  },
  {
   "cell_type": "code",
   "execution_count": 26,
   "id": "00b4fb2c",
   "metadata": {},
   "outputs": [
    {
     "name": "stdout",
     "output_type": "stream",
     "text": [
      "bark\n"
     ]
    }
   ],
   "source": [
    "'''Ans.5    Mehtod overriding is a concept where if parent class and the child class contains methods with same name \n",
    "            in the case of inheritence. Then if the object is initialized using the child class then the method in \n",
    "            child class will be executed and if the object is initialized using parent class then the method in \n",
    "            parent class will be executed. The example for the same is as below'''\n",
    "\n",
    "# defining a class\n",
    "\n",
    "class animal:\n",
    "    \n",
    "    def speak(self):\n",
    "        \n",
    "        print(\"Please specify detail of animal\")\n",
    "        \n",
    "    def activity(self):\n",
    "        \n",
    "        print(\"walk\")\n",
    "        \n",
    "# defining a child class\n",
    "\n",
    "class dog(animal):\n",
    "    \n",
    "    def speak(self):\n",
    "        \n",
    "         print(\"bark\")\n",
    "            \n",
    "# Object initialization using child class\n",
    "\n",
    "x= dog()\n",
    "\n",
    "x.speak()"
   ]
  },
  {
   "cell_type": "code",
   "execution_count": 27,
   "id": "a8cecd40",
   "metadata": {},
   "outputs": [
    {
     "name": "stdout",
     "output_type": "stream",
     "text": [
      "Please specify detail of animal\n"
     ]
    }
   ],
   "source": [
    "# Object initializing using parent class\n",
    "\n",
    "y=animal()\n",
    "\n",
    "y.speak()"
   ]
  },
  {
   "cell_type": "code",
   "execution_count": null,
   "id": "0314f518",
   "metadata": {},
   "outputs": [],
   "source": []
  }
 ],
 "metadata": {
  "kernelspec": {
   "display_name": "Python 3 (ipykernel)",
   "language": "python",
   "name": "python3"
  },
  "language_info": {
   "codemirror_mode": {
    "name": "ipython",
    "version": 3
   },
   "file_extension": ".py",
   "mimetype": "text/x-python",
   "name": "python",
   "nbconvert_exporter": "python",
   "pygments_lexer": "ipython3",
   "version": "3.11.1"
  }
 },
 "nbformat": 4,
 "nbformat_minor": 5
}
