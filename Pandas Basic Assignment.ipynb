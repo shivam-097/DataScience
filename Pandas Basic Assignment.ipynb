{
 "cells": [
  {
   "cell_type": "markdown",
   "id": "eda58485-1532-4eca-8e71-4e52ba45fc81",
   "metadata": {},
   "source": [
    "### 1. Create a Pandas Series that contains the following data: 4, 8, 15, 16, 23, and 42. Then, print the series."
   ]
  },
  {
   "cell_type": "code",
   "execution_count": 5,
   "id": "6dcd2def-88b7-45e4-8ada-0d9ecefb9404",
   "metadata": {},
   "outputs": [
    {
     "name": "stdout",
     "output_type": "stream",
     "text": [
      "0     4\n",
      "1     8\n",
      "2    15\n",
      "3    16\n",
      "4    23\n",
      "5    42\n",
      "dtype: int64\n"
     ]
    }
   ],
   "source": [
    "# importing pandas library\n",
    "import pandas as pd\n",
    "\n",
    "# Creating a series\n",
    "seris = pd.Series([4,8,15,16,23,42])\n",
    "\n",
    "# printing series\n",
    "print(seris)"
   ]
  },
  {
   "cell_type": "markdown",
   "id": "11f4477d-2908-4d5b-b440-d8c161937e37",
   "metadata": {},
   "source": [
    "### 2. Create a variable of list type containing 10 elements in it, and apply pandas.Series function on the variable print it."
   ]
  },
  {
   "cell_type": "code",
   "execution_count": 6,
   "id": "33e8b541-febc-4fbb-b342-34432ab01629",
   "metadata": {},
   "outputs": [
    {
     "name": "stdout",
     "output_type": "stream",
     "text": [
      "0     1\n",
      "1     2\n",
      "2     3\n",
      "3     4\n",
      "4     5\n",
      "5     6\n",
      "6     7\n",
      "7     8\n",
      "8     9\n",
      "9    20\n",
      "dtype: int64\n"
     ]
    }
   ],
   "source": [
    "# declaring a list variable with 10 elements\n",
    "var1 = [1,2,3,4,5,6,7,8,9,20]\n",
    "\n",
    "# Creating series from above variable\n",
    "var_series = pd.Series(var1)\n",
    "\n",
    "# printing the series\n",
    "print(var_series)"
   ]
  },
  {
   "cell_type": "markdown",
   "id": "807ef9e8-84bc-4a98-a6fa-63179c18c880",
   "metadata": {},
   "source": [
    "### 3. Create a Pandas DataFrame that contains the following data:"
   ]
  },
  {
   "cell_type": "code",
   "execution_count": 7,
   "id": "95a78d27-07bd-4535-90c5-7f96b2d0d231",
   "metadata": {},
   "outputs": [
    {
     "name": "stdout",
     "output_type": "stream",
     "text": [
      "     Name  Age  Gender\n",
      "0   Alice   25  Female\n",
      "1     Bob   30    Male\n",
      "2  Claire   27  Female\n"
     ]
    }
   ],
   "source": [
    "# Creating a DataFrame\n",
    "data = {'Name': ['Alice','Bob','Claire'], 'Age': [25,30,27], 'Gender': ['Female', 'Male', 'Female']}\n",
    "\n",
    "df = pd.DataFrame(data)\n",
    "\n",
    "# Displaying the dataframe\n",
    "print(df)"
   ]
  },
  {
   "cell_type": "markdown",
   "id": "f4fe79da-b42d-4ab7-b34d-766e2493f445",
   "metadata": {},
   "source": [
    "### 4. What is ‘DataFrame’ in pandas and how is it different from pandas.series? Explain with an example."
   ]
  },
  {
   "cell_type": "code",
   "execution_count": 8,
   "id": "31170c03-76ee-447e-b13c-49ebd98864d4",
   "metadata": {},
   "outputs": [
    {
     "name": "stdout",
     "output_type": "stream",
     "text": [
      "DataFrame:\n",
      "      Name  Age           City\n",
      "0    Alice   25       New York\n",
      "1      Bob   30  San Francisco\n",
      "2  Charlie   22    Los Angeles\n",
      "\n",
      "Series:\n",
      "0    25\n",
      "1    30\n",
      "2    22\n",
      "Name: Age, dtype: int64\n"
     ]
    }
   ],
   "source": [
    "'''\n",
    "In pandas, a DataFrame is a two-dimensional, tabular data structure that is capable of holding data of different types. \n",
    "It is similar to a spreadsheet or a SQL table, where data is organized in rows and columns. \n",
    "Each column in a DataFrame is a pandas Series, making it a collection of columns with a shared index. \n",
    "You can think of a DataFrame as a container for multiple Series objects.\n",
    "\n",
    "A pandas Series, on the other hand, is a one-dimensional array-like object that can hold any data type. \n",
    "It is similar to a single column or row in a DataFrame. Series objects have an index that labels each element in the array.\n",
    "\n",
    "Here's an example to illustrate the difference between a DataFrame and a Series:\n",
    "'''\n",
    "\n",
    "# Creating a DataFrame\n",
    "data = {'Name': ['Alice', 'Bob', 'Charlie'],\n",
    "        'Age': [25, 30, 22],\n",
    "        'City': ['New York', 'San Francisco', 'Los Angeles']}\n",
    "\n",
    "df = pd.DataFrame(data)\n",
    "\n",
    "# Displaying the DataFrame\n",
    "print(\"DataFrame:\")\n",
    "print(df)\n",
    "\n",
    "\n",
    "'''\n",
    "Now, let's create a Series:\n",
    "'''\n",
    "\n",
    "# Creating a Series\n",
    "ages = pd.Series([25, 30, 22], name='Age')\n",
    "\n",
    "# Displaying the Series\n",
    "print(\"\\nSeries:\")\n",
    "print(ages)"
   ]
  },
  {
   "cell_type": "markdown",
   "id": "f7de345a-7419-4bf3-9e64-f58445551844",
   "metadata": {},
   "source": [
    "### 5. What are some common functions you can use to manipulate data in a Pandas DataFrame? Can you give an example of when you might use one of these functions?"
   ]
  },
  {
   "cell_type": "markdown",
   "id": "dc423fad-efae-4ab7-b6c8-bddea2e870f0",
   "metadata": {},
   "source": [
    "Pandas provides a wide range of functions to manipulate and analyze data in a DataFrame. Here are some common functions:\n",
    "\n",
    "1. head() and tail():   head(n) returns the first n rows of the DataFrame.\n",
    "                        tail(n) returns the last n rows of the DataFrame.\n",
    "\n",
    "2. info():              info() provides a concise summary of the DataFrame, including data types, non-null values, and memory usage.\n",
    "\n",
    "3. describe():          describe() computes various summary statistics, such as mean, median, min, max, and quartiles, for numeric columns.\n",
    "\n",
    "4. shape:               shape returns a tuple representing the dimensions (rows, columns) of the DataFrame.\n",
    "\n",
    "5. loc and iloc:        loc is label-based indexing, and iloc is integer-based indexing. They are used to access a group of rows and columns\n",
    "                        by labels or integer indices.\n"
   ]
  },
  {
   "cell_type": "markdown",
   "id": "7fd11f96-7813-45ee-882e-df9202059077",
   "metadata": {},
   "source": [
    "### 6. Which of the following is mutable in nature Series, DataFrame, Panel?"
   ]
  },
  {
   "cell_type": "markdown",
   "id": "562093ae-eebb-4689-9e21-6d45af478f8d",
   "metadata": {},
   "source": [
    "In pandas, a Series is mutable, meaning its values can be changed or modified after the Series is created. You can modify elements in a Series using the index.\n",
    "\n",
    "On the other hand, both DataFrame and Panel are mutable as well. You can modify the contents of a DataFrame by adding, updating, or deleting rows and columns. A Panel, which is a 3D data structure in pandas (though it has been deprecated in recent versions), is also mutable.\n",
    "\n",
    "To summarize:\n",
    "\n",
    "1. Series is mutable.\n",
    "2. DataFrame is mutable.\n",
    "3. Panel is mutable (deprecated, and not commonly used in recent versions of pandas)."
   ]
  },
  {
   "cell_type": "markdown",
   "id": "a5350122-848d-4d68-9ecb-4df941020b5e",
   "metadata": {},
   "source": [
    "### 7. Create a DataFrame using multiple Series. Explain with an example."
   ]
  },
  {
   "cell_type": "code",
   "execution_count": 9,
   "id": "f9d21f7b-30fd-4d20-817c-9f3c1cc7a912",
   "metadata": {},
   "outputs": [
    {
     "name": "stdout",
     "output_type": "stream",
     "text": [
      "      Name  Age           City\n",
      "0    Alice   25       New York\n",
      "1      Bob   30  San Francisco\n",
      "2  Charlie   22    Los Angeles\n"
     ]
    }
   ],
   "source": [
    "# Creating multiple Series\n",
    "names = pd.Series(['Alice', 'Bob', 'Charlie'], name='Name')\n",
    "ages = pd.Series([25, 30, 22], name='Age')\n",
    "cities = pd.Series(['New York', 'San Francisco', 'Los Angeles'], name='City')\n",
    "\n",
    "# Creating a DataFrame using multiple Series\n",
    "data = {'Name': names, 'Age': ages, 'City': cities}\n",
    "df = pd.DataFrame(data)\n",
    "\n",
    "# Displaying the DataFrame\n",
    "print(df)"
   ]
  },
  {
   "cell_type": "code",
   "execution_count": null,
   "id": "8c48bb8d-b40a-43d5-a4d3-c2d00d6f0342",
   "metadata": {},
   "outputs": [],
   "source": []
  }
 ],
 "metadata": {
  "kernelspec": {
   "display_name": "Python 3 (ipykernel)",
   "language": "python",
   "name": "python3"
  },
  "language_info": {
   "codemirror_mode": {
    "name": "ipython",
    "version": 3
   },
   "file_extension": ".py",
   "mimetype": "text/x-python",
   "name": "python",
   "nbconvert_exporter": "python",
   "pygments_lexer": "ipython3",
   "version": "3.11.4"
  }
 },
 "nbformat": 4,
 "nbformat_minor": 5
}
