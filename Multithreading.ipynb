{
 "cells": [
  {
   "cell_type": "markdown",
   "id": "b77b8cdd-75c1-4261-afd2-113312ef25a5",
   "metadata": {},
   "source": [
    "#### 1. What is multithreading in python? Why is it used? Name the module used to handle threads in python."
   ]
  },
  {
   "cell_type": "markdown",
   "id": "55a18cec-eeb7-4baf-a249-9ff6b40c856b",
   "metadata": {},
   "source": [
    "Ans. Processor executes multiple threads concurrently in same processor, which enables efficient utilization of the resources thereby increasing the performance. The module used for multithreading is 'threading'"
   ]
  },
  {
   "cell_type": "markdown",
   "id": "99ae5509-205f-423c-9748-4db26a03e2a9",
   "metadata": {},
   "source": [
    "#### 2. Why threading module used? Write the use of the following functions\n",
    "1. activeCount()\n",
    "2. currentThread()\n",
    "3. enumerate()"
   ]
  },
  {
   "cell_type": "markdown",
   "id": "d54cfa18-2556-4cf8-ac0e-4697d4ccfff6",
   "metadata": {},
   "source": [
    "Ans. Threading module is used for performing the multithreading operations.\n",
    "\n",
    "1. activeCount() : It returns the number of thread objects that are active.\n",
    "2. currentThread() : It returns the number of thread objects in the caller's thread control.\n",
    "3. enumerate() : It returns a list of all thread objects that are currently active."
   ]
  },
  {
   "cell_type": "markdown",
   "id": "aed52fea-f58f-432e-8a35-dc20208d0189",
   "metadata": {},
   "source": [
    "#### 3. Explain the following functions\n",
    "1. run()\n",
    "2. start()\n",
    "3. join()\n",
    "4. isAlive()"
   ]
  },
  {
   "cell_type": "markdown",
   "id": "af15fec5-bdf8-441b-82cd-d77a86387262",
   "metadata": {},
   "source": [
    "Ans. The Thread class is the threading module has following methods\n",
    "1. run() : It is the entry point for a thread\n",
    "2. start() : It starts thread by calling run method\n",
    "3. join(): It waits for the thread to terminate\n",
    "4. isAlive() : It checks whether a thread is still executing"
   ]
  },
  {
   "cell_type": "markdown",
   "id": "7a0d21db-8c46-42d0-85a4-7667863543bb",
   "metadata": {},
   "source": [
    "#### 4. Write a python program to create two threads. Thread one must print the list of squares and thread two must print the list of cubes."
   ]
  },
  {
   "cell_type": "code",
   "execution_count": 34,
   "id": "2fc0f884-bcb4-4384-8f6b-3d3e63d82e6e",
   "metadata": {},
   "outputs": [],
   "source": [
    "import threading\n",
    "\n",
    "def square_list(num):\n",
    "    print(num**2)\n",
    "\n",
    "def cube_list(num):\n",
    "    print(num**2)\n",
    "\n",
    "thread_sq = [threading.Thread(target=square_list ,args = (i,)) for i in [5,7,12]]\n",
    "\n",
    "thread_cube = [threading.Thread(target = cube_list, args = (i,)) for i in [3,5,9]]"
   ]
  },
  {
   "cell_type": "code",
   "execution_count": 35,
   "id": "1bc0f2e6-4033-4fc2-8e52-90988201bf9e",
   "metadata": {},
   "outputs": [
    {
     "name": "stdout",
     "output_type": "stream",
     "text": [
      "25\n",
      "49\n",
      "144\n"
     ]
    }
   ],
   "source": [
    "for t in thread_sq:\n",
    "    t.start()"
   ]
  },
  {
   "cell_type": "code",
   "execution_count": 36,
   "id": "3ad73eea-028f-4d74-bafb-730863dbd7dd",
   "metadata": {},
   "outputs": [
    {
     "name": "stdout",
     "output_type": "stream",
     "text": [
      "9\n",
      "25\n",
      "81\n"
     ]
    }
   ],
   "source": [
    "for t in thread_cube:\n",
    "    t.run()"
   ]
  },
  {
   "cell_type": "markdown",
   "id": "0d5eaa35-50c1-4b99-93d1-124446d7b7f1",
   "metadata": {},
   "source": [
    "#### 5. State advantages and disadvantages of multithreading"
   ]
  },
  {
   "cell_type": "markdown",
   "id": "6afd66ee-cffc-4ce9-b0c7-9a4906960f2a",
   "metadata": {},
   "source": [
    "Ans. Advantages of multithreading are as below:\n",
    "1. Programs run faster on computer systems that have multiple CPU.\n",
    "2. Threads can be used to break up a task into smaller units that can be executed concurrently.\n",
    "3. Utilizes maximum resources of multiprocessor systems.\n",
    "\n",
    "Disadvantages of multithreading are as below:\n",
    "\n",
    "1. Thread synchronization is an extra over head to the developers\n",
    "2. Since it shares the common data accross the threads, it might cause the data inconsistancy or thread sync related issues"
   ]
  },
  {
   "cell_type": "markdown",
   "id": "6d7c744e-6c96-4bb3-8c37-c3145e2d7a46",
   "metadata": {},
   "source": [
    "#### 6. Explain deadlocks and race conditions."
   ]
  },
  {
   "cell_type": "markdown",
   "id": "5902a696-0288-4194-b262-538a5d2fd0a7",
   "metadata": {},
   "source": [
    "Ans. A race condition occurs when two threads access a shared variable at the same time. The first thread reads the variable and the second thread reads the same value from the variable. Then the first thread and second thread perform their operations on the value and they race to see which thread can write the value last tot the shared variable. The value of the thread that writes its value last is preserved, because the thread is writing over the value that the previous thread wrote.\n",
    "\n",
    "A deadlock occurs when two threads each lock a different variable at the same time and then try to lock the variable that the other thread already locked. As a result each thread stops executing and waits for the other thread to release the variable. Because each thread is holding the variable that the other thread wants, nothing occurs and the thread remain deadlocked."
   ]
  }
 ],
 "metadata": {
  "kernelspec": {
   "display_name": "Python 3 (ipykernel)",
   "language": "python",
   "name": "python3"
  },
  "language_info": {
   "codemirror_mode": {
    "name": "ipython",
    "version": 3
   },
   "file_extension": ".py",
   "mimetype": "text/x-python",
   "name": "python",
   "nbconvert_exporter": "python",
   "pygments_lexer": "ipython3",
   "version": "3.11.4"
  }
 },
 "nbformat": 4,
 "nbformat_minor": 5
}
