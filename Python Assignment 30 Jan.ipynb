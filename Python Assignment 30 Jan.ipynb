{
 "cells": [
  {
   "cell_type": "code",
   "execution_count": 1,
   "id": "f1a87427",
   "metadata": {},
   "outputs": [
    {
     "name": "stdout",
     "output_type": "stream",
     "text": [
      "Enter the percentage: 90\n",
      "Grade = B\n"
     ]
    }
   ],
   "source": [
    "'''Ans.1'''\n",
    "\n",
    "# Taking user input\n",
    "\n",
    "percent=float(input(\"Enter the percentage: \"))\n",
    "\n",
    "# checking for grade\n",
    "\n",
    "if percent>90:\n",
    "    print(\"Grade = A\")\n",
    "elif percent<=90 and percent> 80:\n",
    "    print(\"Grade = B\")\n",
    "elif percent<=80 and percent>=60:\n",
    "    print(\"Grade = C\")\n",
    "else:\n",
    "    print(\"Grade = D\")"
   ]
  },
  {
   "cell_type": "code",
   "execution_count": 2,
   "id": "0513b369",
   "metadata": {},
   "outputs": [
    {
     "name": "stdout",
     "output_type": "stream",
     "text": [
      "Enter the cost of the bike: 80000\n",
      "Road tax at the rate of 10% on the bike is = Rs.  8000.0\n"
     ]
    }
   ],
   "source": [
    "'''Ans.2'''\n",
    "\n",
    "# Taking user input\n",
    "\n",
    "cost=float(input(\"Enter the cost of the bike: \"))\n",
    "\n",
    "# Calculating and displayin the road tax\n",
    "\n",
    "if cost>100000:\n",
    "    road_tax=cost*15/100\n",
    "    print(\"Road tax at the rate of 15% on the bike is = Rs. \", road_tax)\n",
    "elif cost<=100000 and cost>50000:\n",
    "    road_tax=cost*10/100\n",
    "    print(\"Road tax at the rate of 10% on the bike is = Rs. \", road_tax)\n",
    "else:\n",
    "    road_tax=cost*5/100\n",
    "    print(\"Road tax at the rate of 5% on the bike is = Rs. \", road_tax)    "
   ]
  },
  {
   "cell_type": "code",
   "execution_count": 3,
   "id": "a94e3c97",
   "metadata": {},
   "outputs": [
    {
     "name": "stdout",
     "output_type": "stream",
     "text": [
      "['delhi', 'agra', 'jaipur']\n",
      "Enter the city from the list: Agra\n",
      "The monument in the entered city is:  Taj Mahal\n"
     ]
    }
   ],
   "source": [
    "'''Ans. 3 '''\n",
    "\n",
    "collection = {\"delhi\": \"Red Fort\", \"agra\": \"Taj Mahal\", \"jaipur\": \"Jal Mahal\"}\n",
    "\n",
    "# Taking input from the user\n",
    "\n",
    "print(list(collection.keys()))\n",
    "\n",
    "inp=input(\"Enter the city from the list: \")\n",
    "\n",
    "# Displaying the monument\n",
    "\n",
    "print(\"The monument in the entered city is: \", collection[inp.lower()])"
   ]
  },
  {
   "cell_type": "code",
   "execution_count": 4,
   "id": "832706a6",
   "metadata": {},
   "outputs": [
    {
     "name": "stdout",
     "output_type": "stream",
     "text": [
      "Enter the number: 90\n",
      "The given number is divisible by 3 only 2 times\n"
     ]
    }
   ],
   "source": [
    "'''Ans.4   Checking how many times a number can be divided by 3 before it is less than 10'''\n",
    "\n",
    "# Taking input from user\n",
    "\n",
    "num = int(input(\"Enter the number: \"))\n",
    "\n",
    "# checking the condition\n",
    "\n",
    "count=0\n",
    "\n",
    "while num>=10:\n",
    "    \n",
    "    if num % 3==0:\n",
    "        count+=1\n",
    "        num=num/3\n",
    "    else:\n",
    "        break\n",
    "\n",
    "print(\"The given number is divisible by 3 only\", count, \"times\")"
   ]
  },
  {
   "cell_type": "markdown",
   "id": "efd4f679",
   "metadata": {},
   "source": [
    "Q.5 When and why to use while loop in python. Give a detailed description in example"
   ]
  },
  {
   "cell_type": "code",
   "execution_count": 5,
   "id": "020b02e0",
   "metadata": {},
   "outputs": [
    {
     "name": "stdout",
     "output_type": "stream",
     "text": [
      "3 x 1 = 3\n",
      "3 x 2 = 6\n",
      "3 x 3 = 9\n",
      "3 x 4 = 12\n",
      "3 x 5 = 15\n",
      "3 x 6 = 18\n",
      "3 x 7 = 21\n",
      "3 x 8 = 24\n",
      "3 x 9 = 27\n",
      "3 x 10 = 30\n"
     ]
    },
    {
     "data": {
      "text/plain": [
       "'Here the code inside while loop is repeated untile the n is greater than 10'"
      ]
     },
     "execution_count": 5,
     "metadata": {},
     "output_type": "execute_result"
    }
   ],
   "source": [
    "'''Ans.   A while loop is used when process is to be repeated if certain condition is met. This reduces the effort \n",
    "          for writing same code repeatedly. For example'''\n",
    "\n",
    "# Using while loop for printing table of 3\n",
    "\n",
    "n=1\n",
    "\n",
    "while n<=10:\n",
    "\n",
    "    print(f\"3 x {n} = {3*n}\")\n",
    "    \n",
    "    n+=1\n",
    "\n",
    "'''Here the code inside while loop is repeated untile the n is greater than 10'''\n"
   ]
  },
  {
   "cell_type": "markdown",
   "id": "33853e00",
   "metadata": {},
   "source": [
    "Q.6  Using the nested while loop print 3 different patterns."
   ]
  },
  {
   "cell_type": "code",
   "execution_count": 8,
   "id": "e9adbc3a",
   "metadata": {},
   "outputs": [
    {
     "name": "stdout",
     "output_type": "stream",
     "text": [
      "* * * * * \n",
      "* * * * \n",
      "* * * \n",
      "* * \n",
      "* \n"
     ]
    }
   ],
   "source": [
    "# inverted trinagle pattern\n",
    "\n",
    "a=1\n",
    "\n",
    "while a<=5:\n",
    "    \n",
    "    b=5\n",
    "    \n",
    "    while b>=a:\n",
    "        \n",
    "        print(\"*\", end=\" \")\n",
    "    \n",
    "        b-=1\n",
    "    \n",
    "    print()\n",
    "    \n",
    "    a+=1"
   ]
  },
  {
   "cell_type": "code",
   "execution_count": 10,
   "id": "94f80f15",
   "metadata": {},
   "outputs": [
    {
     "name": "stdout",
     "output_type": "stream",
     "text": [
      "\n",
      "* \n",
      "* * \n",
      "* * * \n",
      "* * * * \n",
      "* * * * * \n"
     ]
    }
   ],
   "source": [
    "# right trinagle pattern\n",
    "\n",
    "a=1\n",
    "\n",
    "while a<=6:\n",
    "    \n",
    "    b=1\n",
    "    \n",
    "    while b<a:\n",
    "        \n",
    "        print(\"*\", end=\" \")\n",
    "    \n",
    "        b+=1\n",
    "    \n",
    "    print()\n",
    "    \n",
    "    a+=1"
   ]
  },
  {
   "cell_type": "code",
   "execution_count": 11,
   "id": "5a45511e",
   "metadata": {},
   "outputs": [
    {
     "name": "stdout",
     "output_type": "stream",
     "text": [
      "\n",
      "* \n",
      "* * \n",
      "* * * \n",
      "* * * * \n",
      "* * * * * \n",
      "* * * * * * \n",
      "* * * * * \n",
      "* * * * \n",
      "* * * \n",
      "* * \n",
      "* \n"
     ]
    }
   ],
   "source": [
    "# Acute angle triangle\n",
    "\n",
    "a=1\n",
    "\n",
    "while a<=7:\n",
    "    \n",
    "    b=1\n",
    "    \n",
    "    while b<a:\n",
    "        \n",
    "        print(\"*\", end=\" \")\n",
    "    \n",
    "        b+=1\n",
    "    \n",
    "    print()\n",
    "    \n",
    "    a+=1\n",
    "    \n",
    "\n",
    "i=1\n",
    "\n",
    "while i<=5:\n",
    "    \n",
    "    j=5\n",
    "    \n",
    "    while j>=i:\n",
    "        \n",
    "        print(\"*\", end=\" \")\n",
    "    \n",
    "        j-=1\n",
    "    \n",
    "    print()\n",
    "    \n",
    "    i+=1"
   ]
  },
  {
   "cell_type": "markdown",
   "id": "67df6819",
   "metadata": {},
   "source": [
    "7 & 8.    Reverse a while loop to display number from 10 to 1"
   ]
  },
  {
   "cell_type": "code",
   "execution_count": 12,
   "id": "6c31c16a",
   "metadata": {},
   "outputs": [
    {
     "name": "stdout",
     "output_type": "stream",
     "text": [
      "10\n",
      "9\n",
      "8\n",
      "7\n",
      "6\n",
      "5\n",
      "4\n",
      "3\n",
      "2\n",
      "1\n"
     ]
    }
   ],
   "source": [
    "'''Ans'''\n",
    "\n",
    "i=10\n",
    "\n",
    "while i>0:\n",
    "    \n",
    "    print(i)\n",
    "    \n",
    "    i-=1"
   ]
  },
  {
   "cell_type": "code",
   "execution_count": null,
   "id": "d0edb8be",
   "metadata": {},
   "outputs": [],
   "source": []
  }
 ],
 "metadata": {
  "kernelspec": {
   "display_name": "Python 3 (ipykernel)",
   "language": "python",
   "name": "python3"
  },
  "language_info": {
   "codemirror_mode": {
    "name": "ipython",
    "version": 3
   },
   "file_extension": ".py",
   "mimetype": "text/x-python",
   "name": "python",
   "nbconvert_exporter": "python",
   "pygments_lexer": "ipython3",
   "version": "3.11.1"
  }
 },
 "nbformat": 4,
 "nbformat_minor": 5
}
