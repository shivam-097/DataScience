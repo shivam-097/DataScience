{
 "cells": [
  {
   "cell_type": "markdown",
   "id": "9dc6490b-f33a-4da8-a2e1-73dc0ee699b5",
   "metadata": {},
   "source": [
    "Q.1 What are the characteristics of the tuples? Is tuple immutable?\n",
    "\n",
    "Ans. Characteristics of Tuples:\n",
    "1. Tuples are immutable, hence not item assignment.\n",
    "2. Tuples are ordered collection, hence items can be checked by indexing.\n",
    "3. Unlike sets, they can contain duplicate values."
   ]
  },
  {
   "cell_type": "markdown",
   "id": "197edf00-3002-40d7-8a87-a937d49315c0",
   "metadata": {},
   "source": [
    "Q.2 What are the two tuple methods in python? Give an example of each method. Give a reason why\n",
    "tuples have only two in-built methods as compared to Lists.\n",
    "\n",
    "Ans. There are two tuple methods namely count and index in python which return numbers of repetition of argument passed in the method inside the given tuple and index of first occurence of the argument passed in the method inside the given tuple. \n",
    "\n",
    "for e.g. \n",
    "t1=(1,2,2,3,4,6,77,7)\n",
    "t1.count(2) will return 2\n",
    "and t1.index(77) will return 6\n",
    "\n",
    "As mentioned in the answer of Q.1 tuples are immutable. Hence only these two methods could have been used for tuples."
   ]
  },
  {
   "cell_type": "markdown",
   "id": "be95d268-7c94-4724-a904-2d3155cbde5f",
   "metadata": {},
   "source": [
    "Q.3 Which collection datatypes in python do not allow duplicate items? Write a code using a set to remove\n",
    "duplicates from the given list."
   ]
  },
  {
   "cell_type": "code",
   "execution_count": 3,
   "id": "f4e27fd4-ce2d-4cbb-9033-c7a5b621dd5c",
   "metadata": {},
   "outputs": [
    {
     "name": "stdout",
     "output_type": "stream",
     "text": [
      "[1, 2, 3, 4]\n"
     ]
    }
   ],
   "source": [
    "#Ans. Set is the data type which do not allow the duplicate items.\n",
    "\n",
    "#Code to remove duplicate using set\n",
    "List = [1, 1, 1, 2, 1, 3, 1, 4, 2, 1, 2, 2, 2, 3, 2, 4, 3, 1, 3, 2, 3, 3, 3, 4, 4, 1, 4, 2, 4, 3, 4, 4]\n",
    "List=list(set(List))\n",
    "\n",
    "print(List)"
   ]
  },
  {
   "cell_type": "markdown",
   "id": "8514c332-c5b5-4ac8-9687-fb6395cd2c5b",
   "metadata": {},
   "source": [
    "Q.4 Explain the difference between the union() and update() methods for a set. Give an example of\n",
    "each method."
   ]
  },
  {
   "cell_type": "code",
   "execution_count": 4,
   "id": "484cccb0-833e-44c3-b7c9-23f96b4a9f2f",
   "metadata": {},
   "outputs": [
    {
     "name": "stdout",
     "output_type": "stream",
     "text": [
      "{1, 2, 3, 4, 5, 6, 'ram', 'shri', 'krishna'}\n",
      "{1, 2, 3, 4, 5, 6, 'ram', 'shri', 'krishna'}\n"
     ]
    }
   ],
   "source": [
    "'''Ans. The union returns a new set that contains all the elements of the two set. \n",
    "However, the update method updates one of the set with the \n",
    "union of items of the other set and the items in it'''\n",
    "\n",
    "set1={1,2,3,\"shri\", \"ram\"}\n",
    "set2={4,5,6,\"shri\", \"krishna\"}\n",
    "union_set=set1.union(set2)\n",
    "\n",
    "update_set=set1.update(set2)\n",
    "\n",
    "print(union_set)\n",
    "print(set1)\n"
   ]
  },
  {
   "cell_type": "markdown",
   "id": "609151bc-4066-47fd-b26e-7586493b3915",
   "metadata": {},
   "source": [
    "Q.5 What is a dictionary? Give an example. Also, state whether a dictionary is ordered or unordered.\n",
    "\n",
    "Ans. Dictionary is unordered collection used in python which contains collection of key-value pairs.\n",
    "for e.g. \n",
    "\n",
    "Dict1={\"key1\": \"value1\", \"key2\": \"value2\"}\n",
    "\n",
    "Dictionary is unordered collection as it cannot be accessed through indexing. However, values can be accessed using the keys."
   ]
  },
  {
   "cell_type": "markdown",
   "id": "ef260dce-1e33-4a91-a638-0d961c0434e6",
   "metadata": {},
   "source": [
    "Q.6 Can we create a nested dictionary? If so, please give an example by creating a simple one-level\n",
    "nested dictionary.\n",
    "\n",
    "Ans. Yes, we can create a nested dictionary. E.g.\n",
    "\n",
    "Dict2={\"Calender\":{\"month\":{\"Jan\", \"Feb\", \"Mar\"}, \"day\":{\"Monday\",\"Tuesday\"}}"
   ]
  },
  {
   "cell_type": "markdown",
   "id": "23722442-7404-499e-94af-ac0f09be4866",
   "metadata": {},
   "source": [
    "Q.7 Using setdefault() method, create key named topics in the given dictionary and also add the value of\n",
    "the key as this list ['Python', 'Machine Learning’, 'Deep Learning']\n",
    "dict1 = {'language' : 'Python', 'course': 'Data Science Masters'}"
   ]
  },
  {
   "cell_type": "code",
   "execution_count": 7,
   "id": "ef77aa3e-b7e3-404a-96c1-cd3626d124c5",
   "metadata": {},
   "outputs": [
    {
     "name": "stdout",
     "output_type": "stream",
     "text": [
      "{'language': 'Python', 'course': 'Data Science Masters', 'topics': ['Python', 'Machine Learning', 'Deep Learning']}\n"
     ]
    }
   ],
   "source": [
    "#Ans.\n",
    "\n",
    "dict1 = {'language' : 'Python', 'course': 'Data Science Masters'}\n",
    "topics= ['Python', 'Machine Learning', 'Deep Learning']\n",
    "\n",
    "dict1.setdefault(\"topics\",topics)\n",
    "\n",
    "print(dict1)"
   ]
  },
  {
   "cell_type": "markdown",
   "id": "41fde306-41fa-4b36-91c6-5b51be7e7539",
   "metadata": {},
   "source": [
    "Q.8 What are the three view objects in dictionaries? Use the three in-built methods in python to display\n",
    "these three view objects for the given dictionary.\n",
    "dict1 = {'Sport': 'Cricket' , 'Teams': ['India', 'Australia', 'England', 'South Africa', 'Sri Lanka', 'New Zealand']}"
   ]
  },
  {
   "cell_type": "code",
   "execution_count": 9,
   "id": "fad4131e-71e3-4afb-b867-396c5e1c6c22",
   "metadata": {},
   "outputs": [
    {
     "name": "stdout",
     "output_type": "stream",
     "text": [
      "dict_keys(['Sport', 'Teams'])\n",
      "dict_values(['Cricket', ['India', 'Australia', 'England', 'South Africa', 'Sri Lanka', 'New Zealand']])\n",
      "dict_items([('Sport', 'Cricket'), ('Teams', ['India', 'Australia', 'England', 'South Africa', 'Sri Lanka', 'New Zealand'])])\n"
     ]
    }
   ],
   "source": [
    "#Ans.8\n",
    "'''The three view objects in the dictionary are keys, value and the items which returns list of keys, \n",
    "list of values and the list of tuple of key value pair respectively'''\n",
    "\n",
    "dict1 = {'Sport': 'Cricket' , 'Teams': ['India', 'Australia', 'England', 'South Africa', 'Sri Lanka', 'New Zealand']}\n",
    "\n",
    "#keys method\n",
    "\n",
    "print(dict1.keys())\n",
    "\n",
    "# values method\n",
    "\n",
    "print(dict1.values())\n",
    "\n",
    "#items method\n",
    "\n",
    "print(dict1.items())"
   ]
  },
  {
   "cell_type": "code",
   "execution_count": null,
   "id": "e2c463da-0023-4d8a-bbe7-822dff4a9ce7",
   "metadata": {},
   "outputs": [],
   "source": []
  }
 ],
 "metadata": {
  "kernelspec": {
   "display_name": "Python 3 (ipykernel)",
   "language": "python",
   "name": "python3"
  },
  "language_info": {
   "codemirror_mode": {
    "name": "ipython",
    "version": 3
   },
   "file_extension": ".py",
   "mimetype": "text/x-python",
   "name": "python",
   "nbconvert_exporter": "python",
   "pygments_lexer": "ipython3",
   "version": "3.10.8"
  }
 },
 "nbformat": 4,
 "nbformat_minor": 5
}
