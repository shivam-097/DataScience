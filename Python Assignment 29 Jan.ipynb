{
 "cells": [
  {
   "cell_type": "markdown",
   "id": "79e45484",
   "metadata": {},
   "source": [
    "1. Who developed Python Programming Language?\n",
    "\n",
    "Ans. Python programming language was developed by Guido van Rossum"
   ]
  },
  {
   "cell_type": "markdown",
   "id": "fd122c9d",
   "metadata": {},
   "source": [
    "2. Which type of programming does python support?\n",
    "\n",
    "Ans. Python supports all type of programming like functional, object oriented, structured."
   ]
  },
  {
   "cell_type": "markdown",
   "id": "c623733d",
   "metadata": {},
   "source": [
    "3. Is python case sensitive when dealing with identifiers?\n",
    "\n",
    "Ans. Yes python is case sensitive when dealing with identifiers."
   ]
  },
  {
   "cell_type": "markdown",
   "id": "e5fc3a0a",
   "metadata": {},
   "source": [
    "4. What is correct extension of the python file?\n",
    "\n",
    "Ans.  \".py\" is the correct extension of the python file."
   ]
  },
  {
   "cell_type": "markdown",
   "id": "64578817",
   "metadata": {},
   "source": [
    "5. Is python compiled or interpreted?\n",
    "\n",
    "Ans. Python is an interpreted language"
   ]
  },
  {
   "cell_type": "markdown",
   "id": "1f6cfc92",
   "metadata": {},
   "source": [
    "6. Name a few block of code used to define in python language.\n",
    "\n",
    "Ans. A block is a piece of code which is executed as a unit. For e.g. module, class, function, etc."
   ]
  },
  {
   "cell_type": "markdown",
   "id": "a6dc7323",
   "metadata": {},
   "source": [
    "7. State a character which is used to define single line comment in python.\n",
    "\n",
    "Ans.  \"#\" is used to define single line comment in python"
   ]
  },
  {
   "cell_type": "markdown",
   "id": "01e9240f",
   "metadata": {},
   "source": [
    "8. Mention function which can help us to find the version of python that we are currently working on. "
   ]
  },
  {
   "cell_type": "code",
   "execution_count": 3,
   "id": "ec44e7f2",
   "metadata": {},
   "outputs": [
    {
     "data": {
      "text/plain": [
       "'3.11.1 (tags/v3.11.1:a7a450f, Dec  6 2022, 19:58:39) [MSC v.1934 64 bit (AMD64)]'"
      ]
     },
     "execution_count": 3,
     "metadata": {},
     "output_type": "execute_result"
    }
   ],
   "source": [
    "'''Ans.8'''\n",
    "\n",
    "import sys\n",
    "sys.version"
   ]
  },
  {
   "cell_type": "markdown",
   "id": "96ba50d9",
   "metadata": {},
   "source": [
    "9. Python supports the creation of anonymous function at run time, using a construct called \n",
    "\n",
    "Ans.  lambda"
   ]
  },
  {
   "cell_type": "markdown",
   "id": "46e37ca5",
   "metadata": {},
   "source": [
    "10. What does pip stand for?\n",
    "\n",
    "Ans. Pip stand for pip installs package"
   ]
  },
  {
   "cell_type": "markdown",
   "id": "80684dc5",
   "metadata": {},
   "source": [
    "11. Mention a few built in functions in python.\n",
    "\n",
    "Ans. print(), input(), len(), int(), float(), etc."
   ]
  },
  {
   "cell_type": "markdown",
   "id": "4a154185",
   "metadata": {},
   "source": [
    "12. What is maximum possible length of the identifier in python?\n",
    "\n",
    "Ans. An identifier can contain at max 79 characters in python."
   ]
  },
  {
   "cell_type": "markdown",
   "id": "c262ecd7",
   "metadata": {},
   "source": [
    "13. What are the benefits of using python?\n",
    "\n",
    "Ans. As python is an open source programming language, there many libraries that can be used for efficient writing of code. Further it has a large python community that is continously. There are many third party modules which can be used.\n",
    "It is easy to read, write and interpret."
   ]
  },
  {
   "cell_type": "markdown",
   "id": "e07d2bd3",
   "metadata": {},
   "source": [
    "14. How memory is managed in python?\n",
    "\n",
    "Ans. Python uses dynamic memory allocation which is managed by Heap Data Structure. Python has an inbuilt garbage collector, that recycles all the unused memory and frees the memory and makes it available to the heap space."
   ]
  },
  {
   "cell_type": "markdown",
   "id": "6ca72cae",
   "metadata": {},
   "source": [
    "15. How to install python on windows and set path variable?\n",
    "\n",
    "Ans. Install python from this link https://www.python.org/downloads/\n",
    "After this, install it on your PC. Look for the location where PYTHON has been installed on your PC using the following command on your command prompt: cmd python.\n",
    "Then go to advanced system settings and add new variable and name it as PYTHON_NAME and paste the copied path.\n",
    "Then look for the path variable, select it's value and select edit\n",
    "Add a semicolon towards the end of the value if it's not present and then type %PYTHON_HOME%"
   ]
  },
  {
   "cell_type": "markdown",
   "id": "f9ca848c",
   "metadata": {},
   "source": [
    "16. Is indentation required in python\n",
    "\n",
    "Ans. Yes indentation is required in python."
   ]
  }
 ],
 "metadata": {
  "kernelspec": {
   "display_name": "Python 3 (ipykernel)",
   "language": "python",
   "name": "python3"
  },
  "language_info": {
   "codemirror_mode": {
    "name": "ipython",
    "version": 3
   },
   "file_extension": ".py",
   "mimetype": "text/x-python",
   "name": "python",
   "nbconvert_exporter": "python",
   "pygments_lexer": "ipython3",
   "version": "3.11.1"
  }
 },
 "nbformat": 4,
 "nbformat_minor": 5
}
