{
 "cells": [
  {
   "cell_type": "markdown",
   "id": "7f0afaeb",
   "metadata": {},
   "source": [
    "Q.1 Which keyword is used to create a function? Create a function to return a list of odd numbers in the\n",
    "range of 1 to 25."
   ]
  },
  {
   "cell_type": "code",
   "execution_count": 1,
   "id": "909a88d1",
   "metadata": {},
   "outputs": [
    {
     "data": {
      "text/plain": [
       "[1, 3, 5, 7, 9, 11, 13, 15, 17, 19, 21, 23, 25]"
      ]
     },
     "execution_count": 1,
     "metadata": {},
     "output_type": "execute_result"
    }
   ],
   "source": [
    "'''Ans.1   The keyword used to create a function is \"def\" \n",
    "           Following function returns a list of odd numbers in the range of 1 to 25'''\n",
    "\n",
    "def odd_num():\n",
    "    return [i for i in range(1,26) if i%2==1]\n",
    "odd_num()"
   ]
  },
  {
   "cell_type": "markdown",
   "id": "07b6dc37",
   "metadata": {},
   "source": [
    "Q.2 Why *args and **kwargs is used in some functions? Create a function each for *args and **kwargs to\n",
    "demonstrate their use."
   ]
  },
  {
   "cell_type": "code",
   "execution_count": 7,
   "id": "16289477",
   "metadata": {},
   "outputs": [
    {
     "name": "stdout",
     "output_type": "stream",
     "text": [
      "9\n",
      "257\n",
      "Sharma Shivam \n",
      "Dhoni Singh Mahendra \n"
     ]
    }
   ],
   "source": [
    "'''Ans.2   Both *args and **kwargs are used in the functions where number of arguments \n",
    "to be passed inside a function is not fixed. **kwargs is passed where parameters are \n",
    "passed in key value pairs'''\n",
    "\n",
    "# fuction for returning sum of arguments passed\n",
    "\n",
    "def sum_num(*args):\n",
    "    n=0\n",
    "    for i in args:\n",
    "        n=n+i\n",
    "    return n\n",
    "\n",
    "print(sum_num(1,3,5))\n",
    "print(sum_num(4,6,7,8,9,0,1,222))\n",
    "\n",
    "\n",
    "# function for returning Full name\n",
    "\n",
    "def fullname(**kwargs):\n",
    "    FullName=''\n",
    "    for i in kwargs.keys():\n",
    "        FullName=kwargs[i]+\" \"+FullName\n",
    "    return FullName\n",
    "\n",
    "print(fullname(First=\"Shivam\", Last=\"Sharma\"))\n",
    "print(fullname(First=\"Mahendra\", Middle=\"Singh\", Last=\"Dhoni\"))\n",
    "\n"
   ]
  },
  {
   "cell_type": "markdown",
   "id": "a6dbf50a",
   "metadata": {},
   "source": [
    "Q3. What is an iterator in python? Name the method used to initialise the iterator object and the method\n",
    "used for iteration. Use these methods to print the first five elements of the given list [2, 4, 6, 8, 10, 12, 14, 16,\n",
    "18, 20]."
   ]
  },
  {
   "cell_type": "code",
   "execution_count": 8,
   "id": "0f8956e8",
   "metadata": {},
   "outputs": [
    {
     "name": "stdout",
     "output_type": "stream",
     "text": [
      "2\n",
      "4\n",
      "6\n",
      "8\n",
      "10\n"
     ]
    }
   ],
   "source": [
    "'''Ans. 3   Iterators are the objects which contains countable number of values which can\n",
    "            be traversed through looping. The method used to initialise the iterator object is \n",
    "            iter() and next() is the method used for the iteration of the iterable defined.\n",
    "'''\n",
    "# printing the first five elements of the given list\n",
    "myIter= iter([2, 4, 6, 8, 10, 12, 14, 16, 18, 20])\n",
    "for i in range(1,6):\n",
    "    print(next(myIter))"
   ]
  },
  {
   "cell_type": "markdown",
   "id": "87e6d2c5",
   "metadata": {},
   "source": [
    "Q4. What is a generator function in python? Why yield keyword is used? Give an example of a generator\n",
    "function."
   ]
  },
  {
   "cell_type": "code",
   "execution_count": null,
   "id": "5f7efda1",
   "metadata": {},
   "outputs": [],
   "source": [
    "'''Ans.4    Generator functions are used to create sequence of values which can be iterated upon. \n",
    "            Yield is used to create a sequence of values.\n",
    "            Example of generator function is range function'''"
   ]
  },
  {
   "cell_type": "markdown",
   "id": "a0fb245a",
   "metadata": {},
   "source": [
    "Q5. Create a generator function for prime numbers less than 1000. Use the next() method to print the\n",
    "first 20 prime numbers."
   ]
  },
  {
   "cell_type": "code",
   "execution_count": 39,
   "id": "5a2b1f3d",
   "metadata": {},
   "outputs": [],
   "source": [
    "'''Generator function for prime numbers less than 1000'''\n",
    "def prime_num():\n",
    "    for i in range(2,1001):\n",
    "        isprime=True\n",
    "        for j in range(2,i):\n",
    "            if i%j==0:\n",
    "                isprime=False\n",
    "                break\n",
    "        if isprime:\n",
    "            yield i\n",
    "            \n",
    "myiter=prime_num()"
   ]
  },
  {
   "cell_type": "code",
   "execution_count": 41,
   "id": "4f5e83d9",
   "metadata": {},
   "outputs": [
    {
     "name": "stdout",
     "output_type": "stream",
     "text": [
      "73\n",
      "79\n",
      "83\n",
      "89\n",
      "97\n",
      "101\n",
      "103\n",
      "107\n",
      "109\n",
      "113\n",
      "127\n",
      "131\n",
      "137\n",
      "139\n",
      "149\n",
      "151\n",
      "157\n",
      "163\n",
      "167\n",
      "173\n"
     ]
    }
   ],
   "source": [
    "# printing first 20 prime numbers using next() method\n",
    "\n",
    "for i in range(1,21):\n",
    "    print(next(myiter))"
   ]
  },
  {
   "cell_type": "code",
   "execution_count": null,
   "id": "00b7885e",
   "metadata": {},
   "outputs": [],
   "source": []
  }
 ],
 "metadata": {
  "kernelspec": {
   "display_name": "Python 3 (ipykernel)",
   "language": "python",
   "name": "python3"
  },
  "language_info": {
   "codemirror_mode": {
    "name": "ipython",
    "version": 3
   },
   "file_extension": ".py",
   "mimetype": "text/x-python",
   "name": "python",
   "nbconvert_exporter": "python",
   "pygments_lexer": "ipython3",
   "version": "3.11.1"
  }
 },
 "nbformat": 4,
 "nbformat_minor": 5
}
