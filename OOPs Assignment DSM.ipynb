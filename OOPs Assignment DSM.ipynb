{
 "cells": [
  {
   "cell_type": "markdown",
   "id": "4d1f4ae2-a0f1-4e8b-b33a-8227579ac716",
   "metadata": {},
   "source": [
    "#### Q.1 Which function is used to open a file? What are different modes of opening a file? Explain each mode of file opening"
   ]
  },
  {
   "cell_type": "markdown",
   "id": "522d7589-9c25-4c86-bf2f-8de360d57204",
   "metadata": {},
   "source": [
    "Ans. open() function is used to open a file,\n",
    "A file can be opened in following modes\n",
    "1.  'r'  = Read only mode\n",
    "2.  'w' = Write mode: if file already exists then it will rewrite the file and if not it will create the file \n",
    "3.  'x' = Open new file and write it\n",
    "4.  'a' = Append mode which appends to the end of the file if it exists if not it will create a new file and write it\n",
    "5.  'b' = Binary mode for reading/writing binary files like audio, images\n",
    "6.  't' = text mode which is default.\n",
    "7.  '+' = activates both read and write methods."
   ]
  },
  {
   "cell_type": "markdown",
   "id": "dae0df3d-7a76-4143-b0c7-116399d3dcd5",
   "metadata": {},
   "source": [
    "#### Q.2 Why close() function is used? Why is it important to close a file?"
   ]
  },
  {
   "cell_type": "markdown",
   "id": "0feb89a5-0df2-4ec8-9294-0f5a2c8745bb",
   "metadata": {},
   "source": [
    "Ans. close() function is used to close a file which was opened for reading or writing. Since the resources of the operating systems are limited, it is a good practice to close a file to avoid unwanted errors. Also, if you don't close the file then you cannot access the file outside the python."
   ]
  },
  {
   "cell_type": "markdown",
   "id": "1e0bef13-45d9-40ff-a833-74c687c55b4a",
   "metadata": {},
   "source": [
    "#### Q.3 Write a python program to create a tex file. Write 'I want to become a Data Scientist' in that file. Then close the file. Open this file and read the content of the file"
   ]
  },
  {
   "cell_type": "code",
   "execution_count": 39,
   "id": "2dd91c2c-4b5c-4949-860e-b93e6de742d4",
   "metadata": {},
   "outputs": [
    {
     "data": {
      "text/plain": [
       "'I want to become a Data Scientist'"
      ]
     },
     "execution_count": 39,
     "metadata": {},
     "output_type": "execute_result"
    }
   ],
   "source": [
    "# Ans.\n",
    "\n",
    "# opening a file\n",
    "\n",
    "f = open('File_assignment.txt', 'w')\n",
    "\n",
    "# writing the file\n",
    "f.write(\"I want to become a Data Scientist\")\n",
    "\n",
    "# closing the file\n",
    "f.close()\n",
    "\n",
    "# opening the file in read mode\n",
    "\n",
    "fr = open('File_assignment.txt', 'r')\n",
    "# reading the file\n",
    "fr.read()"
   ]
  },
  {
   "cell_type": "code",
   "execution_count": 40,
   "id": "057064f9-062a-4700-967c-e2cb8c0bb982",
   "metadata": {},
   "outputs": [],
   "source": [
    "fr.close()"
   ]
  },
  {
   "cell_type": "markdown",
   "id": "8150477b-f831-48ba-9834-79ea69b2060e",
   "metadata": {},
   "source": [
    "#### Q.4 Explain the following python code: read(), readline() and readlines()"
   ]
  },
  {
   "cell_type": "code",
   "execution_count": 41,
   "id": "98379b73-c12f-4dc5-9780-eb44f9822e53",
   "metadata": {},
   "outputs": [],
   "source": [
    "'''Ans read() is function of reading entire file at once file and return entire content. \n",
    "    readline() function read a file one line at a time and return it\n",
    "    readlines() function read a file and return the contents in list with \n",
    "    each line as element of the list'''\n",
    "\n",
    "\n",
    "fd = open('Read_file.txt', 'w')\n",
    "\n",
    "fd.write('1. Hello, World! \\n 2. Good Morning \\n 3. How are you?')\n",
    "\n",
    "fd.close()"
   ]
  },
  {
   "cell_type": "code",
   "execution_count": 42,
   "id": "4c2d75f5-76c8-4399-9244-925a8a85e53a",
   "metadata": {},
   "outputs": [
    {
     "data": {
      "text/plain": [
       "['1. Hello, World! \\n', ' 2. Good Morning \\n', ' 3. How are you?']"
      ]
     },
     "execution_count": 42,
     "metadata": {},
     "output_type": "execute_result"
    }
   ],
   "source": [
    "fd = open('Read_file.txt', 'r')\n",
    "fd.readlines()\n"
   ]
  },
  {
   "cell_type": "code",
   "execution_count": 43,
   "id": "d8de7a30-be1b-40ee-8c83-11919407f2db",
   "metadata": {},
   "outputs": [],
   "source": [
    "fd.close()"
   ]
  },
  {
   "cell_type": "code",
   "execution_count": 44,
   "id": "b5969da1-604b-44e2-af2f-3f2f8a7252a8",
   "metadata": {},
   "outputs": [
    {
     "data": {
      "text/plain": [
       "'1. Hello, World! \\n 2. Good Morning \\n 3. How are you?'"
      ]
     },
     "execution_count": 44,
     "metadata": {},
     "output_type": "execute_result"
    }
   ],
   "source": [
    "fd = open('Read_file.txt', 'r')\n",
    "fd.read()"
   ]
  },
  {
   "cell_type": "code",
   "execution_count": 45,
   "id": "11ceef96-46d5-4057-b773-c0cc5cc042a3",
   "metadata": {},
   "outputs": [],
   "source": [
    "fd.close()"
   ]
  },
  {
   "cell_type": "code",
   "execution_count": 46,
   "id": "9ff2e4c6-a6f7-4d06-911a-3c60b25ff93f",
   "metadata": {},
   "outputs": [
    {
     "data": {
      "text/plain": [
       "'1. Hello, World! \\n'"
      ]
     },
     "execution_count": 46,
     "metadata": {},
     "output_type": "execute_result"
    }
   ],
   "source": [
    "fd = open('Read_file.txt', 'r')\n",
    "fd.readline()"
   ]
  },
  {
   "cell_type": "code",
   "execution_count": 47,
   "id": "ad8b69cc-8663-4cd8-9f43-0d7f65b0858d",
   "metadata": {},
   "outputs": [],
   "source": [
    "fd.close()"
   ]
  },
  {
   "cell_type": "markdown",
   "id": "a3a3d04b-e83a-496b-9b9a-e358276d57ed",
   "metadata": {},
   "source": [
    "#### Q.5 Explain why with statement is used with open(). What is the advantage of using with statement and open together"
   ]
  },
  {
   "cell_type": "code",
   "execution_count": 48,
   "id": "d008634f-2368-4ecf-82ac-40c551124b36",
   "metadata": {},
   "outputs": [
    {
     "name": "stdout",
     "output_type": "stream",
     "text": [
      "1. Hello, World! \n",
      "\n"
     ]
    }
   ],
   "source": [
    "'''Ans. with statement is used with open() \n",
    "to avoid error related to forgetting to close the file. \n",
    "E.g. is below:'''\n",
    "\n",
    "with open('Read_file.txt', 'r') as f:\n",
    "    print(f.readline())"
   ]
  },
  {
   "cell_type": "code",
   "execution_count": 49,
   "id": "2bdb5f6a-9e6a-42c1-8adb-92c441f36a3a",
   "metadata": {},
   "outputs": [
    {
     "name": "stdout",
     "output_type": "stream",
     "text": [
      "1. Hello, World! \n",
      "\n"
     ]
    }
   ],
   "source": [
    "with open('Read_file.txt', 'r') as f:\n",
    "    print(f.readline())\n",
    "\n",
    "# Hence it is seen that by using 'with' statement even without closing the same file above the code still ran "
   ]
  },
  {
   "cell_type": "markdown",
   "id": "3b67b54b-fcd7-41d1-a83d-75ff7b7b6d79",
   "metadata": {},
   "source": [
    "#### Q.6. Explain the write() and writelines() functions. Give a suitable example."
   ]
  },
  {
   "cell_type": "code",
   "execution_count": 52,
   "id": "7c0e199a-8a72-49b8-b27c-f8ee177841fd",
   "metadata": {},
   "outputs": [
    {
     "name": "stdout",
     "output_type": "stream",
     "text": [
      "['Jai Shri Ram\\n', 'Jai Shri Krishna \\n', 'Om Namah Shivaay \\n']\n"
     ]
    }
   ],
   "source": [
    "'''\n",
    "Ans. write function is used to write the string to stream in file \n",
    "however writelines() function is used to write a list of line to stream.\n",
    "Example for the same is below\n",
    "'''\n",
    "with open('Assignment_prob.txt', 'r+') as fd:\n",
    "\n",
    "    str1= 'Jai Shri Ram\\n'\n",
    "\n",
    "    list1 = ['Jai Shri Krishna \\n', 'Om Namah Shivaay \\n']\n",
    "    \n",
    "    # using write function\n",
    "    \n",
    "    fd.write(str1)\n",
    "\n",
    "    # using writeline function\n",
    "    \n",
    "    fd.writelines(list1)\n",
    "\n",
    "    # displaying the output\n",
    "    print(fd.readlines())"
   ]
  },
  {
   "cell_type": "code",
   "execution_count": null,
   "id": "fbc49049-7ec7-48f0-9b23-7723edd6c274",
   "metadata": {},
   "outputs": [],
   "source": []
  }
 ],
 "metadata": {
  "kernelspec": {
   "display_name": "Python 3 (ipykernel)",
   "language": "python",
   "name": "python3"
  },
  "language_info": {
   "codemirror_mode": {
    "name": "ipython",
    "version": 3
   },
   "file_extension": ".py",
   "mimetype": "text/x-python",
   "name": "python",
   "nbconvert_exporter": "python",
   "pygments_lexer": "ipython3",
   "version": "3.11.4"
  }
 },
 "nbformat": 4,
 "nbformat_minor": 5
}
