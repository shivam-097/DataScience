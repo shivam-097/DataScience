{
 "cells": [
  {
   "cell_type": "markdown",
   "id": "b4027990-132e-48c0-90b6-2180242841a3",
   "metadata": {},
   "source": [
    "Q1. What is Web Scraping? Why is it Used? Give three areas where Web Scraping is used to get data."
   ]
  },
  {
   "cell_type": "markdown",
   "id": "867904c8-d44e-4ec0-9b64-9ef5e571be37",
   "metadata": {},
   "source": [
    "Ans. Web Scraping means extraction of data from a website. The data is collected and exported into a format useful for the end user.\n",
    "Web scraping can be used for\n",
    "1. Market research -  to understand consumer trends\n",
    "2. Price Monitoring - companies can use web scraping to scrape datat for their product and competing product to analyse the price trend.\n",
    "3. Email Marketing - companies scrapes email address from various websites and use them for sending bulk marketing emails."
   ]
  },
  {
   "cell_type": "markdown",
   "id": "726bd76b-4aaa-42d4-a08f-f6ca2bf30093",
   "metadata": {},
   "source": [
    "Q2. What are the different methods used for Web Scraping?"
   ]
  },
  {
   "cell_type": "markdown",
   "id": "da8eb41c-c664-420b-99bc-68971d871d58",
   "metadata": {},
   "source": [
    "Ans. Following are the methods used for web scraping\n",
    "1. HTML parsing - It involves use of programmer to target a linear or nested HTML page.\n",
    "2. DOM Parsing - Document Object Model defines the structure, style and content of an xml file. Scrapers can embed web browsers like firefox and internet explorer to extract whole web pages.\n",
    "3. Vertical Aggregation -  Companies create these platforms to target particular verticals, usually runs on cloud in auto mode.\n",
    "4. Automated scraping using specialised softwares"
   ]
  },
  {
   "cell_type": "markdown",
   "id": "87b80da4-bb16-440c-bddb-884432f985c8",
   "metadata": {},
   "source": [
    "Q3. What is Beautiful Soup? Why is it used?"
   ]
  },
  {
   "cell_type": "markdown",
   "id": "390d7e87-9a7f-40e4-aba2-68cd8fffb4d0",
   "metadata": {},
   "source": [
    "Ans. Beautiful Soup is a python library which is used to organize the messy webdata by fixing bad HTML and present to us in an easily traversible xml structures. Hence, it allows us to pull data out of HTML and XML documents. "
   ]
  },
  {
   "cell_type": "markdown",
   "id": "e4c56f8c-0c9e-4ffe-b45d-50a7a6541ccc",
   "metadata": {},
   "source": [
    "Q4. Why is flask used in this Web Scraping project?"
   ]
  },
  {
   "cell_type": "markdown",
   "id": "646d6c55-cab7-4da6-8ffa-f5cd8453e2ef",
   "metadata": {},
   "source": [
    "Ans. We used flask in this web scraping project, because we created a website to scrape the data by building web api and the Flask is a lightweight framework to build website."
   ]
  },
  {
   "cell_type": "markdown",
   "id": "4b0ce6f5-b1c7-405b-90c0-4d6c2123a1e4",
   "metadata": {},
   "source": [
    "Q5. Write the names of AWS services used in this project. Also, explain the use of each service."
   ]
  },
  {
   "cell_type": "markdown",
   "id": "b82f107e-1782-464d-ba4e-e83ce8e851ba",
   "metadata": {},
   "source": [
    "Ans. Following AWS services are used in this project:\n",
    "1. Code pipeline: It is a continuous delivery service that enable us to model, visualize and automate the steps required to release the software.\n",
    "2. Elastic Bean stalk: It can directly take up the applicationb code and environment configuration and use it to automatically provision and deploy the required resources within AWS to run the web application."
   ]
  }
 ],
 "metadata": {
  "kernelspec": {
   "display_name": "Python 3 (ipykernel)",
   "language": "python",
   "name": "python3"
  },
  "language_info": {
   "codemirror_mode": {
    "name": "ipython",
    "version": 3
   },
   "file_extension": ".py",
   "mimetype": "text/x-python",
   "name": "python",
   "nbconvert_exporter": "python",
   "pygments_lexer": "ipython3",
   "version": "3.11.4"
  }
 },
 "nbformat": 4,
 "nbformat_minor": 5
}
