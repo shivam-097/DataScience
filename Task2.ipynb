{
 "cells": [
  {
   "cell_type": "markdown",
   "id": "16842546-735a-4d92-a52f-afcc62193c18",
   "metadata": {},
   "source": [
    "Q1. You are writing code for a company. The requirement of the company is that you create a python\n",
    "function that will check whether the password entered by the user is correct or not. The function should\n",
    "take the password as input and return the string “Valid Password” if the entered password follows the\n",
    "below-given password guidelines else it should return “Invalid Password”.\n",
    "\n",
    "Note: 1. The Password should contain at least two uppercase letters and at least two lowercase letters.\n",
    "2. The Password should contain at least a number and three special characters.\n",
    "3. The length of the password should be 10 characters long."
   ]
  },
  {
   "cell_type": "code",
   "execution_count": 5,
   "id": "2f41614d-9f6b-4110-adc6-7c411ca0da2a",
   "metadata": {},
   "outputs": [
    {
     "name": "stdin",
     "output_type": "stream",
     "text": [
      "Enter the password:  JaiShriRam\n"
     ]
    },
    {
     "data": {
      "text/plain": [
       "'Invalid Password'"
      ]
     },
     "execution_count": 5,
     "metadata": {},
     "output_type": "execute_result"
    }
   ],
   "source": [
    "'''Check a valid password'''\n",
    "\n",
    "def ValidPassword():\n",
    "\n",
    "    password=input(\"Enter the password: \")\n",
    "\n",
    "    count_caps=0\n",
    "    count_low=0\n",
    "    count_num=0\n",
    "    count_spl=0\n",
    "\n",
    "    for i in password:\n",
    "        if i.isupper():\n",
    "            count_caps+=1\n",
    "        elif i.islower():\n",
    "            count_low+=1\n",
    "        elif i.isnumeric():\n",
    "            count_num+=1\n",
    "        else:\n",
    "            count_spl+=1\n",
    "    if len(password)==10 and count_caps>=2 and count_low>=2 and count_spl>=3 and count_num>=1:\n",
    "        return \"Valid Password\"\n",
    "    else:\n",
    "        return \"Invalid Password\"\n",
    "\n",
    "ValidPassword()"
   ]
  },
  {
   "cell_type": "code",
   "execution_count": 6,
   "id": "9633e56e-efdd-476e-afa6-48e380016737",
   "metadata": {},
   "outputs": [
    {
     "name": "stdin",
     "output_type": "stream",
     "text": [
      "Enter the password:  J$riRm#@12\n"
     ]
    },
    {
     "data": {
      "text/plain": [
       "'Valid Password'"
      ]
     },
     "execution_count": 6,
     "metadata": {},
     "output_type": "execute_result"
    }
   ],
   "source": [
    "ValidPassword()"
   ]
  },
  {
   "cell_type": "markdown",
   "id": "123cc05e-e5e1-4455-9749-cf11c319fe17",
   "metadata": {},
   "source": [
    "Q2. Solve the below-given questions using at least one of the following:\n",
    "1. Lambda function\n",
    "2. Filter function\n",
    "3. Map function\n",
    "4. List Comprehension\n",
    "\n",
    "* Check if the string starts with a particular letter.\n",
    "* Check if the string is numeric.\n",
    "* Sort a list of tuples having fruit names and their quantity. [(\"mango\",99),(\"orange\",80), (\"grapes\", 1000)-\n",
    "* Find the squares of numbers from 1 to 10.\n",
    "* Find the cube root of numbers from 1 to 10.\n",
    "* Check if a given number is even.\n",
    "* Filter odd numbers from the given list.\n",
    "   [1,2,3,4,5,6,7,8,9,10]\n",
    "* Sort a list of integers into positive and negative integers lists.\n",
    "   [1,2,3,4,5,6,-1,-2,-3,-4,-5,0]"
   ]
  },
  {
   "cell_type": "code",
   "execution_count": 26,
   "id": "f40ceddf-10c8-4963-97a0-9a5a652fc35b",
   "metadata": {},
   "outputs": [
    {
     "name": "stdin",
     "output_type": "stream",
     "text": [
      "Enter the string:  Hwllo\n",
      "Enter the letter to check:  H\n"
     ]
    },
    {
     "name": "stdout",
     "output_type": "stream",
     "text": [
      "Yes it starts with given letter\n",
      "No it isn't\n"
     ]
    }
   ],
   "source": [
    "string1=input(\"Enter the string: \")\n",
    "letter=input(\"Enter the letter to check: \")\n",
    "\n",
    "# Checking if the string starts with particular letter\n",
    "\n",
    "start_with = lambda string1: \"Yes it starts with given letter\" if string1.startswith(letter) else \"No it doesn't\"\n",
    "print(start_with(string1))"
   ]
  },
  {
   "cell_type": "code",
   "execution_count": 40,
   "id": "f963331e-4cb7-4fab-8dff-822e9a6fc419",
   "metadata": {},
   "outputs": [
    {
     "name": "stdout",
     "output_type": "stream",
     "text": [
      "No it isn't\n"
     ]
    }
   ],
   "source": [
    "# Check if the string is numeric\n",
    "\n",
    "num_check = lambda string1: \"Yes string is numeric\" if string1.isnumeric() else \"No it isn't\"\n",
    "print(num_check(string1))"
   ]
  },
  {
   "cell_type": "code",
   "execution_count": 41,
   "id": "dcd851fa-422c-4878-a106-162a8d452390",
   "metadata": {},
   "outputs": [
    {
     "data": {
      "text/plain": [
       "[('orange', 80), ('mango', 99), ('grapes', 1000)]"
      ]
     },
     "execution_count": 41,
     "metadata": {},
     "output_type": "execute_result"
    }
   ],
   "source": [
    "# Sort a list of tuples having fruit names and their quantity. [(\"mango\",99),(\"orange\",80), (\"grapes\", 1000)]\n",
    "list1 = [(\"mango\",99),(\"orange\",80), (\"grapes\", 1000)]\n",
    "list1.sort(key= lambda x: x[1])\n",
    "list1"
   ]
  },
  {
   "cell_type": "code",
   "execution_count": 42,
   "id": "879064e5-de2f-476e-8a01-82b776f4cec2",
   "metadata": {},
   "outputs": [
    {
     "data": {
      "text/plain": [
       "[1, 4, 9, 16, 25, 36, 49, 64, 81, 100]"
      ]
     },
     "execution_count": 42,
     "metadata": {},
     "output_type": "execute_result"
    }
   ],
   "source": [
    "# Find the squares of numbers from 1 to 10\n",
    "sq_num = [x**2 for x in range(1,11)]\n",
    "sq_num"
   ]
  },
  {
   "cell_type": "code",
   "execution_count": 43,
   "id": "10955095-fbb8-43b2-b72c-9bc875157b9c",
   "metadata": {},
   "outputs": [
    {
     "data": {
      "text/plain": [
       "[1.0,\n",
       " 1.2599210498948732,\n",
       " 1.4422495703074083,\n",
       " 1.5874010519681994,\n",
       " 1.7099759466766968,\n",
       " 1.8171205928321397,\n",
       " 1.912931182772389,\n",
       " 2.0,\n",
       " 2.080083823051904,\n",
       " 2.154434690031884]"
      ]
     },
     "execution_count": 43,
     "metadata": {},
     "output_type": "execute_result"
    }
   ],
   "source": [
    "# Find the cube root of numbers from 1 to 10.\n",
    "cube_root = [x**(1/3) for x in range(1,11)]\n",
    "cube_root"
   ]
  },
  {
   "cell_type": "code",
   "execution_count": 44,
   "id": "89527361-de30-4cce-9849-920ba1af9502",
   "metadata": {},
   "outputs": [
    {
     "name": "stdin",
     "output_type": "stream",
     "text": [
      "Enter the number:  12\n"
     ]
    },
    {
     "name": "stdout",
     "output_type": "stream",
     "text": [
      "Number is even\n"
     ]
    }
   ],
   "source": [
    "# Check if a given number is even.\n",
    "num = int(input(\"Enter the number: \"))\n",
    "is_even = lambda num: \"Number is even\" if num%2==0 else \"Number is odd\"\n",
    "print(is_even(num))"
   ]
  },
  {
   "cell_type": "code",
   "execution_count": 45,
   "id": "55524a08-142e-4bef-828d-d935b3329814",
   "metadata": {},
   "outputs": [
    {
     "data": {
      "text/plain": [
       "[1, 3, 5, 7, 9]"
      ]
     },
     "execution_count": 45,
     "metadata": {},
     "output_type": "execute_result"
    }
   ],
   "source": [
    "# Filter odd numbers from the given list.\n",
    "list2= [1,2,3,4,5,6,7,8,9,10]\n",
    "odd_list = list(filter(lambda x: x%2!=0, list2))\n",
    "odd_list"
   ]
  },
  {
   "cell_type": "code",
   "execution_count": 46,
   "id": "a27d1adb-9b46-4d49-8e8c-bc10e272d1f1",
   "metadata": {},
   "outputs": [
    {
     "name": "stdout",
     "output_type": "stream",
     "text": [
      "[-5, -4, -3, -2, -1]\n",
      "[0, 1, 2, 3, 4, 5, 6]\n"
     ]
    }
   ],
   "source": [
    "# Sort a list of integers into positive and negative integers lists.\n",
    "list3 = [1,2,3,4,5,6,-1,-2,-3,-4,-5,0]\n",
    "negetive_list=list(filter(lambda x: x<0,list3))\n",
    "positive_list=list(filter(lambda x: x>=0, list3))\n",
    "\n",
    "negetive_list.sort()\n",
    "positive_list.sort()\n",
    "\n",
    "print(negetive_list)\n",
    "print(positive_list)"
   ]
  },
  {
   "cell_type": "code",
   "execution_count": null,
   "id": "10a3a2c7-e3d0-41af-985e-ad34b8049a26",
   "metadata": {},
   "outputs": [],
   "source": []
  }
 ],
 "metadata": {
  "kernelspec": {
   "display_name": "Python 3 (ipykernel)",
   "language": "python",
   "name": "python3"
  },
  "language_info": {
   "codemirror_mode": {
    "name": "ipython",
    "version": 3
   },
   "file_extension": ".py",
   "mimetype": "text/x-python",
   "name": "python",
   "nbconvert_exporter": "python",
   "pygments_lexer": "ipython3",
   "version": "3.11.4"
  }
 },
 "nbformat": 4,
 "nbformat_minor": 5
}
