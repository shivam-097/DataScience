{
 "cells": [
  {
   "cell_type": "markdown",
   "id": "c5d605b9-b751-4724-94a0-e38de8b747e2",
   "metadata": {},
   "source": [
    "Q1. Create a function which will take a list as an argument and return the product of all the numbers\n",
    "after creating a flat list.\n",
    "Use the below-given list as an argument for your function.\n",
    "list1 = [1,2,3,4, [44,55,66, True], False, (34,56,78,89,34), {1,2,3,3,2,1}, {1:34, \"key2\": [55, 67, 78, 89], 4: (45,\n",
    "22, 61, 34)}, [56, 'data science'], 'Machine Learning']\n",
    "Note: you must extract numeric keys and values of the dictionary also."
   ]
  },
  {
   "cell_type": "code",
   "execution_count": 21,
   "id": "8d66b28c-4f99-47ab-a1d4-c5643aa8f303",
   "metadata": {},
   "outputs": [
    {
     "data": {
      "text/plain": [
       "8800996958208"
      ]
     },
     "execution_count": 21,
     "metadata": {},
     "output_type": "execute_result"
    }
   ],
   "source": [
    "'''The following function extracts the numeric values from the list and return the product'''\n",
    "\n",
    "list1 = [1,2,3,4, [44,55,66, True], False, (34,56,78,89,34), {1,2,3,3,2,1}, {1:34, \"key2\": [55, 67, 78, 89], 4: (45,\n",
    "22, 61, 34)}, [56, 'data science'], 'Machine Learning']\n",
    "\n",
    "def Product(list):\n",
    "\n",
    "    prod=1\n",
    "\n",
    "    for i in list1:\n",
    "        if type(i)==int or type(i)==float:\n",
    "            prod*=i\n",
    "        if type(i)==tuple or type(i)==list or type(i)==set:\n",
    "            for j in i:\n",
    "                if type(j)==int or type(j)==float:\n",
    "                    prod*=j\n",
    "        if type(i)==dict:\n",
    "            for k in i.keys():\n",
    "                if type(k)==int or type(k)==float:\n",
    "                    prod*=k\n",
    "            for l in i.values():\n",
    "                if type(l)==int or type(l)==float:\n",
    "                    prod*=l    \n",
    "    return prod\n",
    "\n",
    "Product(list1)"
   ]
  },
  {
   "cell_type": "markdown",
   "id": "e15c0a20-207d-4ba1-9828-d7af45acad59",
   "metadata": {},
   "source": [
    "Q2. Write a python program for encrypting a message sent to you by your friend. The logic of encryption\n",
    "should be such that, for a the output should be z. For b, the output should be y. For c, the output should\n",
    "be x respectively. Also, the whitespace should be replaced with a dollar sign. Keep the punctuation\n",
    "marks unchanged.\n",
    "Input Sentence: I want to become a Data Scientist.\n",
    "Encrypt the above input sentence using the program you just created.\n",
    "Note: Convert the given input sentence into lowercase before encrypting. The final output should be\n",
    "lowercase."
   ]
  },
  {
   "cell_type": "code",
   "execution_count": 27,
   "id": "7ad9727a-b43b-46a9-98b9-2de5961efedc",
   "metadata": {},
   "outputs": [
    {
     "name": "stdout",
     "output_type": "stream",
     "text": [
      "r$dzmg$gl$yvxlnv$z$wzgz$hxrvmgrhg­\n"
     ]
    }
   ],
   "source": [
    "'''Encryption of the message'''\n",
    "\n",
    "string1='I want to become a Data Scientist.'\n",
    "\n",
    "message=''\n",
    "\n",
    "for i in string1.lower():\n",
    "    if i!=\" \":\n",
    "        i = chr(ord('z') - ord(i) + ord('a'))\n",
    "        message=message+i \n",
    "    else:\n",
    "        message=message+\"$\"\n",
    "\n",
    "print(message)"
   ]
  },
  {
   "cell_type": "code",
   "execution_count": null,
   "id": "7be2a3b4-96a1-4aa4-98fe-347b944bf033",
   "metadata": {},
   "outputs": [],
   "source": []
  }
 ],
 "metadata": {
  "kernelspec": {
   "display_name": "Python 3 (ipykernel)",
   "language": "python",
   "name": "python3"
  },
  "language_info": {
   "codemirror_mode": {
    "name": "ipython",
    "version": 3
   },
   "file_extension": ".py",
   "mimetype": "text/x-python",
   "name": "python",
   "nbconvert_exporter": "python",
   "pygments_lexer": "ipython3",
   "version": "3.11.4"
  }
 },
 "nbformat": 4,
 "nbformat_minor": 5
}
