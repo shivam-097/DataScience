{
 "cells": [
  {
   "cell_type": "markdown",
   "id": "9ed82a5a",
   "metadata": {},
   "source": [
    "Q1. Explain Class and Object with respect to Object-Oriented Programming. Give a suitable example."
   ]
  },
  {
   "cell_type": "code",
   "execution_count": 6,
   "id": "ad84b35f",
   "metadata": {},
   "outputs": [],
   "source": [
    "''' Ans. Class is a blueprint which defines behaviour and properties. \n",
    "    Object is the instance of the class\n",
    "'''\n",
    "class Car:\n",
    "    pass\n",
    "\n",
    "Polo=Car()\n",
    "\n",
    "#Here the Car is the class and the Polo is object    "
   ]
  },
  {
   "cell_type": "markdown",
   "id": "2bf4b3a5",
   "metadata": {},
   "source": [
    "Q2. Name the four pillars of OOPs.\n",
    "\n",
    "Ans.2 Four pillars of OOPs are:\n",
    "    i. Abstraction\n",
    "    ii. Encapsulation\n",
    "    iii. Inheritance\n",
    "    iv. Polymorphism"
   ]
  },
  {
   "cell_type": "markdown",
   "id": "3c793df0",
   "metadata": {},
   "source": [
    "Q3. Explain why the __init__() function is used. Give a suitable example."
   ]
  },
  {
   "cell_type": "code",
   "execution_count": 16,
   "id": "bf520965",
   "metadata": {},
   "outputs": [
    {
     "data": {
      "text/plain": [
       "('Polo', 2020)"
      ]
     },
     "execution_count": 16,
     "metadata": {},
     "output_type": "execute_result"
    }
   ],
   "source": [
    "'''Ans.3    The __init__() function is used for initialization of the class. \n",
    "            This method is also called constructor method\n",
    "'''\n",
    "\n",
    "class Car1:\n",
    "    def __init__(self, model, year):\n",
    "        self.model=model\n",
    "        self.year=year\n",
    "        \n",
    "    def CarDetail(self):\n",
    "        return self.model , self.year\n",
    "\n",
    "mycar=Car1(\"Polo\", 2020)\n",
    "mycar.CarDetail()"
   ]
  },
  {
   "cell_type": "markdown",
   "id": "b8a6d5ee",
   "metadata": {},
   "source": [
    "Q4. Why self is used in OOPs?\n",
    "\n",
    "Ans.4   self is used as a pointer to the class, it represent the object of the class."
   ]
  },
  {
   "cell_type": "markdown",
   "id": "754fdef3",
   "metadata": {},
   "source": [
    "Q5. What is inheritance? Give an example for each type of inheritance.\n",
    "\n",
    "Ans.5   Inheritance is a way to use the methods defined in one class to another class.\n",
    "        The class deriving the methods from other class is called the child class and the other \n",
    "        class is called the parent class.\n",
    "        \n",
    "        There are 5 types of inheritance:\n",
    "        i.  Single\n",
    "        ii. Multiple\n",
    "        iii. Multilevel\n",
    "        iv. Hierarchical\n",
    "        v. Hybrid"
   ]
  }
 ],
 "metadata": {
  "kernelspec": {
   "display_name": "Python 3 (ipykernel)",
   "language": "python",
   "name": "python3"
  },
  "language_info": {
   "codemirror_mode": {
    "name": "ipython",
    "version": 3
   },
   "file_extension": ".py",
   "mimetype": "text/x-python",
   "name": "python",
   "nbconvert_exporter": "python",
   "pygments_lexer": "ipython3",
   "version": "3.11.1"
  }
 },
 "nbformat": 4,
 "nbformat_minor": 5
}
